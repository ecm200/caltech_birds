{
 "metadata": {
  "language_info": {
   "codemirror_mode": {
    "name": "ipython",
    "version": 3
   },
   "file_extension": ".py",
   "mimetype": "text/x-python",
   "name": "python",
   "nbconvert_exporter": "python",
   "pygments_lexer": "ipython3",
   "version": "3.8.8"
  },
  "orig_nbformat": 2,
  "kernelspec": {
   "name": "python388jvsc74a57bd0da3747a036187680e2b34a8786029d6a50aba197a7c22b09ad53a2cc8b995665",
   "display_name": "Python 3.8.8 64-bit ('py38_pytorch181_cu111_clearml': conda)"
  }
 },
 "nbformat": 4,
 "nbformat_minor": 2,
 "cells": [
  {
   "cell_type": "code",
   "execution_count": null,
   "metadata": {},
   "outputs": [],
   "source": [
    "from clearml import Task, OutputModel\n",
    "from cub_tools.trainer import ClearML_Ignite_Trainer\n",
    "import furl\n",
    "import pathlib\n",
    "import tempfile\n",
    "from datetime import datetime"
   ]
  },
  {
   "cell_type": "code",
   "execution_count": null,
   "metadata": {},
   "outputs": [],
   "source": [
    "model_config = '/home/edmorris/projects/image_classification/caltech_birds/scripts/configs/timm/resnext101_64x4d_config.yaml'"
   ]
  },
  {
   "cell_type": "code",
   "execution_count": null,
   "metadata": {},
   "outputs": [],
   "source": [
    "task = Task.get_task(task_id=\"f485f5447d5e4c1b871729649a5a39b5\")"
   ]
  },
  {
   "cell_type": "code",
   "execution_count": null,
   "metadata": {},
   "outputs": [],
   "source": [
    "assert len(task.get_models()['output']) == 1,'[ERROR] More than one model detected, unable to proceed.'"
   ]
  },
  {
   "cell_type": "code",
   "execution_count": null,
   "metadata": {},
   "outputs": [],
   "source": [
    "dirname = tempfile.mkdtemp(prefix=f\"ignite_torchscripts_{datetime.now().strftime('%Y_%m_%d_%H_%M_%S_')}\")\n",
    "temp_file_path = os.path.join(dirname,'model.pt')"
   ]
  },
  {
   "cell_type": "code",
   "execution_count": null,
   "metadata": {},
   "outputs": [],
   "source": [
    "import torch\n",
    "\n",
    "# Local modules\n",
    "from cub_tools.trainer import ClearML_Ignite_Trainer\n",
    "from cub_tools.args import get_parser\n",
    "from cub_tools.config import get_cfg_defaults, get_key_value_dict"
   ]
  },
  {
   "cell_type": "code",
   "execution_count": null,
   "metadata": {},
   "outputs": [],
   "source": [
    "cmd_args = [\n",
    "    'DIRS.CLEAN_UP', False,     # Don't do anything to the directory structure.\n",
    "    'MODEL.PRETRAINED', False,  # Don't load default weights, as we want to load our own.\n",
    "    ]  \n",
    "trainer = ClearML_Ignite_Trainer(task=task,config=model_config, cmd_args=cmd_args)"
   ]
  },
  {
   "cell_type": "code",
   "execution_count": null,
   "metadata": {
    "tags": [
     "outputPrepend"
    ]
   },
   "outputs": [],
   "source": [
    "trainer.create_model(load_to_device=False)"
   ]
  },
  {
   "cell_type": "code",
   "execution_count": null,
   "metadata": {
    "tags": [
     "outputPrepend"
    ]
   },
   "outputs": [],
   "source": [
    "# Get the best model weights file for this experiment\n",
    "for chkpnt_model in trainer.task.get_models()['output']:\n",
    "    print(chkpnt_model.name)\n",
    "    print(chkpnt_model.url)\n",
    "    if \"best_model\" in chkpnt_model.name:\n",
    "        break\n",
    "\n",
    "# Get the model weights file locally and update the model\n",
    "local_cache_path = chkpnt_model.get_local_copy()\n",
    "trainer.update_model_from_checkpoint(checkpoint_file=local_cache_path)"
   ]
  },
  {
   "cell_type": "code",
   "execution_count": null,
   "metadata": {},
   "outputs": [],
   "source": [
    "# Get a sample dataset for running inference with\n",
    "trainer.create_datatransforms()\n",
    "trainer.create_dataloaders(shuffle={'train' : True, 'test' : True})"
   ]
  },
  {
   "cell_type": "code",
   "execution_count": null,
   "metadata": {},
   "outputs": [],
   "source": [
    "# Create an image batch\n",
    "X, y = next(iter(trainer.val_loader))\n",
    "# Push the input images to the device\n",
    "X = X.to(trainer.device)\n",
    "# Trace the model\n",
    "traced_module = torch.jit.trace(trainer.model, (X))\n",
    "# Write the trace module of the model to disk\n",
    "traced_module.save(temp_file_path) ### TODO: Need to work out where this is saved, and how to push to an artefact."
   ]
  },
  {
   "cell_type": "code",
   "execution_count": null,
   "metadata": {},
   "outputs": [],
   "source": [
    "# Build the remote location of the torchscript file, based on the best model weights\n",
    "# Create furl object of existing model weights\n",
    "model_furl = furl.furl(chkpnt_model.url)\n",
    "# Strip off the model path\n",
    "model_path = pathlib.Path(model_furl.pathstr)\n",
    "# Get the existing model weights name, and split the name from the file extension.\n",
    "file_split = os.path.splitext(model_path.name)\n",
    "# Create the torchscript filename\n",
    "#if fname is None:\n",
    "fname = file_split[0]+\"_torchscript\"+file_split[1]\n",
    "# Construct the new full uri with the new filename\n",
    "new_model_furl = furl.furl(origin=model_furl.origin, path=str(model_path.parent))"
   ]
  },
  {
   "cell_type": "code",
   "execution_count": null,
   "metadata": {},
   "outputs": [],
   "source": [
    "# Upload the torchscript model file to the clearml-server\n",
    "new_output_model = OutputModel(task=trainer.task)"
   ]
  },
  {
   "cell_type": "code",
   "execution_count": null,
   "metadata": {},
   "outputs": [],
   "source": [
    "new_output_model.update_weights(\n",
    "            weights_filename=temp_file_path,\n",
    "            target_filename=fname,\n",
    "            upload_uri=new_model_furl.url\n",
    "            )"
   ]
  },
  {
   "cell_type": "code",
   "execution_count": null,
   "metadata": {},
   "outputs": [],
   "source": []
  }
 ]
}