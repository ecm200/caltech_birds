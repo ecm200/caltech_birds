{
 "metadata": {
  "language_info": {
   "codemirror_mode": {
    "name": "ipython",
    "version": 3
   },
   "file_extension": ".py",
   "mimetype": "text/x-python",
   "name": "python",
   "nbconvert_exporter": "python",
   "pygments_lexer": "ipython3",
   "version": "3.8.8"
  },
  "orig_nbformat": 2,
  "kernelspec": {
   "name": "python388jvsc74a57bd0da3747a036187680e2b34a8786029d6a50aba197a7c22b09ad53a2cc8b995665",
   "display_name": "Python 3.8.8 64-bit ('py38_pytorch181_cu111_clearml': conda)"
  }
 },
 "nbformat": 4,
 "nbformat_minor": 2,
 "cells": [
  {
   "cell_type": "code",
   "execution_count": 1,
   "metadata": {},
   "outputs": [],
   "source": [
    "from clearml import Task, OutputModel\n",
    "from cub_tools.trainer import ClearML_Ignite_Trainer\n",
    "import furl\n",
    "import pathlib\n",
    "import tempfile\n",
    "from datetime import datetime"
   ]
  },
  {
   "cell_type": "code",
   "execution_count": 3,
   "metadata": {},
   "outputs": [],
   "source": [
    "model_config = '/home/edmorris/projects/image_classification/caltech_birds/scripts/configs/torchvision/resnet34_config.yaml'"
   ]
  },
  {
   "cell_type": "code",
   "execution_count": 4,
   "metadata": {},
   "outputs": [],
   "source": [
    "task = Task.get_task(task_id=\"cedea43ac417467387d9d411cb794848\")"
   ]
  },
  {
   "cell_type": "code",
   "execution_count": 5,
   "metadata": {},
   "outputs": [],
   "source": [
    "assert len(task.get_models()['output']) == 1,'[ERROR] More than one model detected, unable to proceed.'"
   ]
  },
  {
   "cell_type": "code",
   "execution_count": 6,
   "metadata": {},
   "outputs": [],
   "source": [
    "dirname = tempfile.mkdtemp(prefix=f\"ignite_torchscripts_{datetime.now().strftime('%Y_%m_%d_%H_%M_%S_')}\")\n",
    "temp_file_path = os.path.join(dirname,'model.pt')"
   ]
  },
  {
   "cell_type": "code",
   "execution_count": 7,
   "metadata": {},
   "outputs": [],
   "source": [
    "import torch\n",
    "\n",
    "# Local modules\n",
    "from cub_tools.trainer import ClearML_Ignite_Trainer\n",
    "from cub_tools.args import get_parser\n",
    "from cub_tools.config import get_cfg_defaults, get_key_value_dict"
   ]
  },
  {
   "cell_type": "code",
   "execution_count": 8,
   "metadata": {},
   "outputs": [
    {
     "output_type": "stream",
     "name": "stdout",
     "text": [
      "[INFO] Parameters Override:: ['DIRS.CLEAN_UP', False, 'MODEL.PRETRAINED', False]\nDATA:\n  DATA_DIR: /home/edmorris/projects/image_classification/caltech_birds/data/images\n  NUM_CLASSES: 200\n  TEST_DIR: test\n  TRAIN_DIR: train\n  TRANSFORMS:\n    PARAMS:\n      AGGRESIVE:\n        persp_distortion_scale: 0.25\n        rotation_range: (-10.0, 10.0)\n        type: all\n      DEFAULT:\n        img_crop_size: 224\n        img_resize: 256\n    TYPE: default\nDIRS:\n  CLEAN_UP: False\n  ROOT_DIR: /home/edmorris/projects/image_classification/caltech_birds\n  WORKING_DIR: /home/edmorris/projects/image_classification/caltech_birds/models/classification/ignite_resnet34\nEARLY_STOPPING_PATIENCE: 5\nMODEL:\n  MODEL_LIBRARY: torchvision\n  MODEL_NAME: resnet34\n  PRETRAINED: False\n  WITH_AMP: False\n  WITH_GRAD_SCALE: False\nSYSTEM:\n  LOG_HISTORY: True\nTRAIN:\n  BATCH_SIZE: 16\n  LOSS:\n    CRITERION: CrossEntropy\n  NUM_EPOCHS: 40\n  NUM_WORKERS: 4\n  OPTIMIZER:\n    PARAMS:\n      lr: 0.001\n      momentum: 0.9\n      nesterov: True\n    TYPE: SGD\n  SCHEDULER:\n    PARAMS:\n      gamma: 0.1\n      step_size: 7\n    TYPE: StepLR\n"
     ]
    }
   ],
   "source": [
    "cmd_args = [\n",
    "    'DIRS.CLEAN_UP', False,     # Don't do anything to the directory structure.\n",
    "    'MODEL.PRETRAINED', False,  # Don't load default weights, as we want to load our own.\n",
    "    ]  \n",
    "trainer = ClearML_Ignite_Trainer(task=task,config=model_config, cmd_args=cmd_args)"
   ]
  },
  {
   "cell_type": "code",
   "execution_count": 9,
   "metadata": {
    "tags": []
   },
   "outputs": [
    {
     "output_type": "stream",
     "name": "stdout",
     "text": [
      "[INFO] Successfully created model but NOT pushed it to the device cuda:0\n",
      "----------------------------------------------------------------\n",
      "        Layer (type)               Output Shape         Param #\n",
      "================================================================\n",
      "            Conv2d-1         [16, 64, 112, 112]           9,408\n",
      "       BatchNorm2d-2         [16, 64, 112, 112]             128\n",
      "              ReLU-3         [16, 64, 112, 112]               0\n",
      "         MaxPool2d-4           [16, 64, 56, 56]               0\n",
      "            Conv2d-5           [16, 64, 56, 56]          36,864\n",
      "       BatchNorm2d-6           [16, 64, 56, 56]             128\n",
      "              ReLU-7           [16, 64, 56, 56]               0\n",
      "            Conv2d-8           [16, 64, 56, 56]          36,864\n",
      "       BatchNorm2d-9           [16, 64, 56, 56]             128\n",
      "             ReLU-10           [16, 64, 56, 56]               0\n",
      "       BasicBlock-11           [16, 64, 56, 56]               0\n",
      "           Conv2d-12           [16, 64, 56, 56]          36,864\n",
      "      BatchNorm2d-13           [16, 64, 56, 56]             128\n",
      "             ReLU-14           [16, 64, 56, 56]               0\n",
      "           Conv2d-15           [16, 64, 56, 56]          36,864\n",
      "      BatchNorm2d-16           [16, 64, 56, 56]             128\n",
      "             ReLU-17           [16, 64, 56, 56]               0\n",
      "       BasicBlock-18           [16, 64, 56, 56]               0\n",
      "           Conv2d-19           [16, 64, 56, 56]          36,864\n",
      "      BatchNorm2d-20           [16, 64, 56, 56]             128\n",
      "             ReLU-21           [16, 64, 56, 56]               0\n",
      "           Conv2d-22           [16, 64, 56, 56]          36,864\n",
      "      BatchNorm2d-23           [16, 64, 56, 56]             128\n",
      "             ReLU-24           [16, 64, 56, 56]               0\n",
      "       BasicBlock-25           [16, 64, 56, 56]               0\n",
      "           Conv2d-26          [16, 128, 28, 28]          73,728\n",
      "      BatchNorm2d-27          [16, 128, 28, 28]             256\n",
      "             ReLU-28          [16, 128, 28, 28]               0\n",
      "           Conv2d-29          [16, 128, 28, 28]         147,456\n",
      "      BatchNorm2d-30          [16, 128, 28, 28]             256\n",
      "           Conv2d-31          [16, 128, 28, 28]           8,192\n",
      "      BatchNorm2d-32          [16, 128, 28, 28]             256\n",
      "             ReLU-33          [16, 128, 28, 28]               0\n",
      "       BasicBlock-34          [16, 128, 28, 28]               0\n",
      "           Conv2d-35          [16, 128, 28, 28]         147,456\n",
      "      BatchNorm2d-36          [16, 128, 28, 28]             256\n",
      "             ReLU-37          [16, 128, 28, 28]               0\n",
      "           Conv2d-38          [16, 128, 28, 28]         147,456\n",
      "      BatchNorm2d-39          [16, 128, 28, 28]             256\n",
      "             ReLU-40          [16, 128, 28, 28]               0\n",
      "       BasicBlock-41          [16, 128, 28, 28]               0\n",
      "           Conv2d-42          [16, 128, 28, 28]         147,456\n",
      "      BatchNorm2d-43          [16, 128, 28, 28]             256\n",
      "             ReLU-44          [16, 128, 28, 28]               0\n",
      "           Conv2d-45          [16, 128, 28, 28]         147,456\n",
      "      BatchNorm2d-46          [16, 128, 28, 28]             256\n",
      "             ReLU-47          [16, 128, 28, 28]               0\n",
      "       BasicBlock-48          [16, 128, 28, 28]               0\n",
      "           Conv2d-49          [16, 128, 28, 28]         147,456\n",
      "      BatchNorm2d-50          [16, 128, 28, 28]             256\n",
      "             ReLU-51          [16, 128, 28, 28]               0\n",
      "           Conv2d-52          [16, 128, 28, 28]         147,456\n",
      "      BatchNorm2d-53          [16, 128, 28, 28]             256\n",
      "             ReLU-54          [16, 128, 28, 28]               0\n",
      "       BasicBlock-55          [16, 128, 28, 28]               0\n",
      "           Conv2d-56          [16, 256, 14, 14]         294,912\n",
      "      BatchNorm2d-57          [16, 256, 14, 14]             512\n",
      "             ReLU-58          [16, 256, 14, 14]               0\n",
      "           Conv2d-59          [16, 256, 14, 14]         589,824\n",
      "      BatchNorm2d-60          [16, 256, 14, 14]             512\n",
      "           Conv2d-61          [16, 256, 14, 14]          32,768\n",
      "      BatchNorm2d-62          [16, 256, 14, 14]             512\n",
      "             ReLU-63          [16, 256, 14, 14]               0\n",
      "       BasicBlock-64          [16, 256, 14, 14]               0\n",
      "           Conv2d-65          [16, 256, 14, 14]         589,824\n",
      "      BatchNorm2d-66          [16, 256, 14, 14]             512\n",
      "             ReLU-67          [16, 256, 14, 14]               0\n",
      "           Conv2d-68          [16, 256, 14, 14]         589,824\n",
      "      BatchNorm2d-69          [16, 256, 14, 14]             512\n",
      "             ReLU-70          [16, 256, 14, 14]               0\n",
      "       BasicBlock-71          [16, 256, 14, 14]               0\n",
      "           Conv2d-72          [16, 256, 14, 14]         589,824\n",
      "      BatchNorm2d-73          [16, 256, 14, 14]             512\n",
      "             ReLU-74          [16, 256, 14, 14]               0\n",
      "           Conv2d-75          [16, 256, 14, 14]         589,824\n",
      "      BatchNorm2d-76          [16, 256, 14, 14]             512\n",
      "             ReLU-77          [16, 256, 14, 14]               0\n",
      "       BasicBlock-78          [16, 256, 14, 14]               0\n",
      "           Conv2d-79          [16, 256, 14, 14]         589,824\n",
      "      BatchNorm2d-80          [16, 256, 14, 14]             512\n",
      "             ReLU-81          [16, 256, 14, 14]               0\n",
      "           Conv2d-82          [16, 256, 14, 14]         589,824\n",
      "      BatchNorm2d-83          [16, 256, 14, 14]             512\n",
      "             ReLU-84          [16, 256, 14, 14]               0\n",
      "       BasicBlock-85          [16, 256, 14, 14]               0\n",
      "           Conv2d-86          [16, 256, 14, 14]         589,824\n",
      "      BatchNorm2d-87          [16, 256, 14, 14]             512\n",
      "             ReLU-88          [16, 256, 14, 14]               0\n",
      "           Conv2d-89          [16, 256, 14, 14]         589,824\n",
      "      BatchNorm2d-90          [16, 256, 14, 14]             512\n",
      "             ReLU-91          [16, 256, 14, 14]               0\n",
      "       BasicBlock-92          [16, 256, 14, 14]               0\n",
      "           Conv2d-93          [16, 256, 14, 14]         589,824\n",
      "      BatchNorm2d-94          [16, 256, 14, 14]             512\n",
      "             ReLU-95          [16, 256, 14, 14]               0\n",
      "           Conv2d-96          [16, 256, 14, 14]         589,824\n",
      "      BatchNorm2d-97          [16, 256, 14, 14]             512\n",
      "             ReLU-98          [16, 256, 14, 14]               0\n",
      "       BasicBlock-99          [16, 256, 14, 14]               0\n",
      "          Conv2d-100            [16, 512, 7, 7]       1,179,648\n",
      "     BatchNorm2d-101            [16, 512, 7, 7]           1,024\n",
      "            ReLU-102            [16, 512, 7, 7]               0\n",
      "          Conv2d-103            [16, 512, 7, 7]       2,359,296\n",
      "     BatchNorm2d-104            [16, 512, 7, 7]           1,024\n",
      "          Conv2d-105            [16, 512, 7, 7]         131,072\n",
      "     BatchNorm2d-106            [16, 512, 7, 7]           1,024\n",
      "            ReLU-107            [16, 512, 7, 7]               0\n",
      "      BasicBlock-108            [16, 512, 7, 7]               0\n",
      "          Conv2d-109            [16, 512, 7, 7]       2,359,296\n",
      "     BatchNorm2d-110            [16, 512, 7, 7]           1,024\n",
      "            ReLU-111            [16, 512, 7, 7]               0\n",
      "          Conv2d-112            [16, 512, 7, 7]       2,359,296\n",
      "     BatchNorm2d-113            [16, 512, 7, 7]           1,024\n",
      "            ReLU-114            [16, 512, 7, 7]               0\n",
      "      BasicBlock-115            [16, 512, 7, 7]               0\n",
      "          Conv2d-116            [16, 512, 7, 7]       2,359,296\n",
      "     BatchNorm2d-117            [16, 512, 7, 7]           1,024\n",
      "            ReLU-118            [16, 512, 7, 7]               0\n",
      "          Conv2d-119            [16, 512, 7, 7]       2,359,296\n",
      "     BatchNorm2d-120            [16, 512, 7, 7]           1,024\n",
      "            ReLU-121            [16, 512, 7, 7]               0\n",
      "      BasicBlock-122            [16, 512, 7, 7]               0\n",
      "AdaptiveAvgPool2d-123            [16, 512, 1, 1]               0\n",
      "          Linear-124                  [16, 200]         102,600\n",
      "================================================================\n",
      "Total params: 21,387,272\n",
      "Trainable params: 21,387,272\n",
      "Non-trainable params: 0\n",
      "----------------------------------------------------------------\n",
      "Input size (MB): 9.19\n",
      "Forward/backward pass size (MB): 1540.52\n",
      "Params size (MB): 81.59\n",
      "Estimated Total Size (MB): 1631.30\n",
      "----------------------------------------------------------------\n"
     ]
    }
   ],
   "source": [
    "trainer.create_model(load_to_device=False)"
   ]
  },
  {
   "cell_type": "code",
   "execution_count": 10,
   "metadata": {
    "tags": []
   },
   "outputs": [
    {
     "output_type": "stream",
     "name": "stdout",
     "text": [
      "TRAIN [Network: resnet34, Library: torchvision] Ignite Train PyTorch CNN on CUB200: cub200_resnet34_ignite_best_model_5_val_acc=0.6940.pt\n",
      "azure://clearmllibrary/artefacts/Caltech Birds%2FTraining/TRAIN [Network%3A resnet34, Library%3A torchvision] Ignite Train PyTorch CNN on CUB200.cedea43ac417467387d9d411cb794848/models/cub200_resnet34_ignite_best_model_0.pt\n",
      "2021-06-14 10:12:47,950 - clearml.storage - INFO - Downloading: 5.00MB / 81.72MB @ 25.58MBs from azure://clearmllibrary/artefacts/Caltech Birds%2FTraining/TRAIN [Network%3A resnet34, Library%3A torchvision] Ignite Train PyTorch CNN on CUB200.cedea43ac417467387d9d411cb794848/models/cub200_resnet34_ignite_best_model_0.pt\n",
      "2021-06-14 10:12:48,182 - clearml.storage - INFO - Downloading: 13.00MB / 81.72MB @ 34.53MBs from azure://clearmllibrary/artefacts/Caltech Birds%2FTraining/TRAIN [Network%3A resnet34, Library%3A torchvision] Ignite Train PyTorch CNN on CUB200.cedea43ac417467387d9d411cb794848/models/cub200_resnet34_ignite_best_model_0.pt\n",
      "2021-06-14 10:12:48,222 - clearml.storage - INFO - Downloading: 21.00MB / 81.72MB @ 196.74MBs from azure://clearmllibrary/artefacts/Caltech Birds%2FTraining/TRAIN [Network%3A resnet34, Library%3A torchvision] Ignite Train PyTorch CNN on CUB200.cedea43ac417467387d9d411cb794848/models/cub200_resnet34_ignite_best_model_0.pt\n",
      "2021-06-14 10:12:48,246 - clearml.storage - INFO - Downloading: 29.00MB / 81.72MB @ 340.36MBs from azure://clearmllibrary/artefacts/Caltech Birds%2FTraining/TRAIN [Network%3A resnet34, Library%3A torchvision] Ignite Train PyTorch CNN on CUB200.cedea43ac417467387d9d411cb794848/models/cub200_resnet34_ignite_best_model_0.pt\n",
      "2021-06-14 10:12:48,295 - clearml.storage - INFO - Downloading: 37.00MB / 81.72MB @ 163.81MBs from azure://clearmllibrary/artefacts/Caltech Birds%2FTraining/TRAIN [Network%3A resnet34, Library%3A torchvision] Ignite Train PyTorch CNN on CUB200.cedea43ac417467387d9d411cb794848/models/cub200_resnet34_ignite_best_model_0.pt\n",
      "2021-06-14 10:12:48,423 - clearml.storage - INFO - Downloading: 45.00MB / 81.72MB @ 62.08MBs from azure://clearmllibrary/artefacts/Caltech Birds%2FTraining/TRAIN [Network%3A resnet34, Library%3A torchvision] Ignite Train PyTorch CNN on CUB200.cedea43ac417467387d9d411cb794848/models/cub200_resnet34_ignite_best_model_0.pt\n",
      "2021-06-14 10:12:48,499 - clearml.storage - INFO - Downloading: 53.72MB / 81.72MB @ 116.25MBs from azure://clearmllibrary/artefacts/Caltech Birds%2FTraining/TRAIN [Network%3A resnet34, Library%3A torchvision] Ignite Train PyTorch CNN on CUB200.cedea43ac417467387d9d411cb794848/models/cub200_resnet34_ignite_best_model_0.pt\n",
      "2021-06-14 10:12:48,557 - clearml.storage - INFO - Downloading: 61.72MB / 81.72MB @ 136.39MBs from azure://clearmllibrary/artefacts/Caltech Birds%2FTraining/TRAIN [Network%3A resnet34, Library%3A torchvision] Ignite Train PyTorch CNN on CUB200.cedea43ac417467387d9d411cb794848/models/cub200_resnet34_ignite_best_model_0.pt\n",
      "2021-06-14 10:12:48,590 - clearml.storage - INFO - Downloading: 69.72MB / 81.72MB @ 245.67MBs from azure://clearmllibrary/artefacts/Caltech Birds%2FTraining/TRAIN [Network%3A resnet34, Library%3A torchvision] Ignite Train PyTorch CNN on CUB200.cedea43ac417467387d9d411cb794848/models/cub200_resnet34_ignite_best_model_0.pt\n",
      "2021-06-14 10:12:48,659 - clearml.storage - INFO - Downloading: 77.72MB / 81.72MB @ 114.81MBs from azure://clearmllibrary/artefacts/Caltech Birds%2FTraining/TRAIN [Network%3A resnet34, Library%3A torchvision] Ignite Train PyTorch CNN on CUB200.cedea43ac417467387d9d411cb794848/models/cub200_resnet34_ignite_best_model_0.pt\n",
      "2021-06-14 10:12:48,716 - clearml.storage - INFO - Downloaded 81.72 MB successfully from azure://clearmllibrary/artefacts/Caltech Birds%2FTraining/TRAIN [Network%3A resnet34, Library%3A torchvision] Ignite Train PyTorch CNN on CUB200.cedea43ac417467387d9d411cb794848/models/cub200_resnet34_ignite_best_model_0.pt , saved to /home/edmorris/.clearml/cache/storage_manager/global/d73d58b3e71ea69a54b4d2ed99c71a6c.cub200_resnet34_ignite_best_model_0.pt\n",
      "[INFO] Successfully loaded weights into the model from weights file:: /home/edmorris/.clearml/cache/storage_manager/global/d73d58b3e71ea69a54b4d2ed99c71a6c.cub200_resnet34_ignite_best_model_0.pt\n",
      "[INFO] Successfully updated model and pushed it to the device cuda:0\n",
      "----------------------------------------------------------------\n",
      "        Layer (type)               Output Shape         Param #\n",
      "================================================================\n",
      "            Conv2d-1         [16, 64, 112, 112]           9,408\n",
      "       BatchNorm2d-2         [16, 64, 112, 112]             128\n",
      "              ReLU-3         [16, 64, 112, 112]               0\n",
      "         MaxPool2d-4           [16, 64, 56, 56]               0\n",
      "            Conv2d-5           [16, 64, 56, 56]          36,864\n",
      "       BatchNorm2d-6           [16, 64, 56, 56]             128\n",
      "              ReLU-7           [16, 64, 56, 56]               0\n",
      "            Conv2d-8           [16, 64, 56, 56]          36,864\n",
      "       BatchNorm2d-9           [16, 64, 56, 56]             128\n",
      "             ReLU-10           [16, 64, 56, 56]               0\n",
      "       BasicBlock-11           [16, 64, 56, 56]               0\n",
      "           Conv2d-12           [16, 64, 56, 56]          36,864\n",
      "      BatchNorm2d-13           [16, 64, 56, 56]             128\n",
      "             ReLU-14           [16, 64, 56, 56]               0\n",
      "           Conv2d-15           [16, 64, 56, 56]          36,864\n",
      "      BatchNorm2d-16           [16, 64, 56, 56]             128\n",
      "             ReLU-17           [16, 64, 56, 56]               0\n",
      "       BasicBlock-18           [16, 64, 56, 56]               0\n",
      "           Conv2d-19           [16, 64, 56, 56]          36,864\n",
      "      BatchNorm2d-20           [16, 64, 56, 56]             128\n",
      "             ReLU-21           [16, 64, 56, 56]               0\n",
      "           Conv2d-22           [16, 64, 56, 56]          36,864\n",
      "      BatchNorm2d-23           [16, 64, 56, 56]             128\n",
      "             ReLU-24           [16, 64, 56, 56]               0\n",
      "       BasicBlock-25           [16, 64, 56, 56]               0\n",
      "           Conv2d-26          [16, 128, 28, 28]          73,728\n",
      "      BatchNorm2d-27          [16, 128, 28, 28]             256\n",
      "             ReLU-28          [16, 128, 28, 28]               0\n",
      "           Conv2d-29          [16, 128, 28, 28]         147,456\n",
      "      BatchNorm2d-30          [16, 128, 28, 28]             256\n",
      "           Conv2d-31          [16, 128, 28, 28]           8,192\n",
      "      BatchNorm2d-32          [16, 128, 28, 28]             256\n",
      "             ReLU-33          [16, 128, 28, 28]               0\n",
      "       BasicBlock-34          [16, 128, 28, 28]               0\n",
      "           Conv2d-35          [16, 128, 28, 28]         147,456\n",
      "      BatchNorm2d-36          [16, 128, 28, 28]             256\n",
      "             ReLU-37          [16, 128, 28, 28]               0\n",
      "           Conv2d-38          [16, 128, 28, 28]         147,456\n",
      "      BatchNorm2d-39          [16, 128, 28, 28]             256\n",
      "             ReLU-40          [16, 128, 28, 28]               0\n",
      "       BasicBlock-41          [16, 128, 28, 28]               0\n",
      "           Conv2d-42          [16, 128, 28, 28]         147,456\n",
      "      BatchNorm2d-43          [16, 128, 28, 28]             256\n",
      "             ReLU-44          [16, 128, 28, 28]               0\n",
      "           Conv2d-45          [16, 128, 28, 28]         147,456\n",
      "      BatchNorm2d-46          [16, 128, 28, 28]             256\n",
      "             ReLU-47          [16, 128, 28, 28]               0\n",
      "       BasicBlock-48          [16, 128, 28, 28]               0\n",
      "           Conv2d-49          [16, 128, 28, 28]         147,456\n",
      "      BatchNorm2d-50          [16, 128, 28, 28]             256\n",
      "             ReLU-51          [16, 128, 28, 28]               0\n",
      "           Conv2d-52          [16, 128, 28, 28]         147,456\n",
      "      BatchNorm2d-53          [16, 128, 28, 28]             256\n",
      "             ReLU-54          [16, 128, 28, 28]               0\n",
      "       BasicBlock-55          [16, 128, 28, 28]               0\n",
      "           Conv2d-56          [16, 256, 14, 14]         294,912\n",
      "      BatchNorm2d-57          [16, 256, 14, 14]             512\n",
      "             ReLU-58          [16, 256, 14, 14]               0\n",
      "           Conv2d-59          [16, 256, 14, 14]         589,824\n",
      "      BatchNorm2d-60          [16, 256, 14, 14]             512\n",
      "           Conv2d-61          [16, 256, 14, 14]          32,768\n",
      "      BatchNorm2d-62          [16, 256, 14, 14]             512\n",
      "             ReLU-63          [16, 256, 14, 14]               0\n",
      "       BasicBlock-64          [16, 256, 14, 14]               0\n",
      "           Conv2d-65          [16, 256, 14, 14]         589,824\n",
      "      BatchNorm2d-66          [16, 256, 14, 14]             512\n",
      "             ReLU-67          [16, 256, 14, 14]               0\n",
      "           Conv2d-68          [16, 256, 14, 14]         589,824\n",
      "      BatchNorm2d-69          [16, 256, 14, 14]             512\n",
      "             ReLU-70          [16, 256, 14, 14]               0\n",
      "       BasicBlock-71          [16, 256, 14, 14]               0\n",
      "           Conv2d-72          [16, 256, 14, 14]         589,824\n",
      "      BatchNorm2d-73          [16, 256, 14, 14]             512\n",
      "             ReLU-74          [16, 256, 14, 14]               0\n",
      "           Conv2d-75          [16, 256, 14, 14]         589,824\n",
      "      BatchNorm2d-76          [16, 256, 14, 14]             512\n",
      "             ReLU-77          [16, 256, 14, 14]               0\n",
      "       BasicBlock-78          [16, 256, 14, 14]               0\n",
      "           Conv2d-79          [16, 256, 14, 14]         589,824\n",
      "      BatchNorm2d-80          [16, 256, 14, 14]             512\n",
      "             ReLU-81          [16, 256, 14, 14]               0\n",
      "           Conv2d-82          [16, 256, 14, 14]         589,824\n",
      "      BatchNorm2d-83          [16, 256, 14, 14]             512\n",
      "             ReLU-84          [16, 256, 14, 14]               0\n",
      "       BasicBlock-85          [16, 256, 14, 14]               0\n",
      "           Conv2d-86          [16, 256, 14, 14]         589,824\n",
      "      BatchNorm2d-87          [16, 256, 14, 14]             512\n",
      "             ReLU-88          [16, 256, 14, 14]               0\n",
      "           Conv2d-89          [16, 256, 14, 14]         589,824\n",
      "      BatchNorm2d-90          [16, 256, 14, 14]             512\n",
      "             ReLU-91          [16, 256, 14, 14]               0\n",
      "       BasicBlock-92          [16, 256, 14, 14]               0\n",
      "           Conv2d-93          [16, 256, 14, 14]         589,824\n",
      "      BatchNorm2d-94          [16, 256, 14, 14]             512\n",
      "             ReLU-95          [16, 256, 14, 14]               0\n",
      "           Conv2d-96          [16, 256, 14, 14]         589,824\n",
      "      BatchNorm2d-97          [16, 256, 14, 14]             512\n",
      "             ReLU-98          [16, 256, 14, 14]               0\n",
      "       BasicBlock-99          [16, 256, 14, 14]               0\n",
      "          Conv2d-100            [16, 512, 7, 7]       1,179,648\n",
      "     BatchNorm2d-101            [16, 512, 7, 7]           1,024\n",
      "            ReLU-102            [16, 512, 7, 7]               0\n",
      "          Conv2d-103            [16, 512, 7, 7]       2,359,296\n",
      "     BatchNorm2d-104            [16, 512, 7, 7]           1,024\n",
      "          Conv2d-105            [16, 512, 7, 7]         131,072\n",
      "     BatchNorm2d-106            [16, 512, 7, 7]           1,024\n",
      "            ReLU-107            [16, 512, 7, 7]               0\n",
      "      BasicBlock-108            [16, 512, 7, 7]               0\n",
      "          Conv2d-109            [16, 512, 7, 7]       2,359,296\n",
      "     BatchNorm2d-110            [16, 512, 7, 7]           1,024\n",
      "            ReLU-111            [16, 512, 7, 7]               0\n",
      "          Conv2d-112            [16, 512, 7, 7]       2,359,296\n",
      "     BatchNorm2d-113            [16, 512, 7, 7]           1,024\n",
      "            ReLU-114            [16, 512, 7, 7]               0\n",
      "      BasicBlock-115            [16, 512, 7, 7]               0\n",
      "          Conv2d-116            [16, 512, 7, 7]       2,359,296\n",
      "     BatchNorm2d-117            [16, 512, 7, 7]           1,024\n",
      "            ReLU-118            [16, 512, 7, 7]               0\n",
      "          Conv2d-119            [16, 512, 7, 7]       2,359,296\n",
      "     BatchNorm2d-120            [16, 512, 7, 7]           1,024\n",
      "            ReLU-121            [16, 512, 7, 7]               0\n",
      "      BasicBlock-122            [16, 512, 7, 7]               0\n",
      "AdaptiveAvgPool2d-123            [16, 512, 1, 1]               0\n",
      "          Linear-124                  [16, 200]         102,600\n",
      "================================================================\n",
      "Total params: 21,387,272\n",
      "Trainable params: 21,387,272\n",
      "Non-trainable params: 0\n",
      "----------------------------------------------------------------\n",
      "Input size (MB): 9.19\n",
      "Forward/backward pass size (MB): 1540.52\n",
      "Params size (MB): 81.59\n",
      "Estimated Total Size (MB): 1631.30\n",
      "----------------------------------------------------------------\n"
     ]
    }
   ],
   "source": [
    "chkpnt_model."
   ]
  },
  {
   "cell_type": "code",
   "execution_count": null,
   "metadata": {},
   "outputs": [],
   "source": [
    "# Get the best model weights file for this experiment\n",
    "for chkpnt_model in trainer.task.get_models()['output']:\n",
    "    print(chkpnt_model.name)\n",
    "    print(chkpnt_model.url)\n",
    "    if \"best_model\" in chkpnt_model.name:\n",
    "        break\n",
    "\n",
    "# Get the model weights file locally and update the model\n",
    "local_cache_path = chkpnt_model.get_local_copy()\n",
    "trainer.update_model_from_checkpoint(checkpoint_file=local_cache_path)"
   ]
  },
  {
   "cell_type": "code",
   "execution_count": 18,
   "metadata": {},
   "outputs": [
    {
     "output_type": "execute_result",
     "data": {
      "text/plain": [
       "'azure://clearmllibrary/artefacts/Caltech Birds%2FTraining/TRAIN [Network%3A resnet34, Library%3A torchvision] Ignite Train PyTorch CNN on CUB200.cedea43ac417467387d9d411cb794848/models/cub200_resnet34_ignite_best_model_0.pt'"
      ]
     },
     "metadata": {},
     "execution_count": 18
    }
   ],
   "source": [
    "chkpnt_model.url"
   ]
  },
  {
   "cell_type": "code",
   "execution_count": 11,
   "metadata": {},
   "outputs": [
    {
     "output_type": "stream",
     "name": "stdout",
     "text": [
      "***********************************************\n**            DATASET SUMMARY                **\n***********************************************\ntrain  size::  5994  images\ntest  size::  5794  images\nNumber of classes::  200\n***********************************************\n[INFO] Created data loaders.\n"
     ]
    }
   ],
   "source": [
    "# Get a sample dataset for running inference with\n",
    "trainer.create_datatransforms()\n",
    "trainer.create_dataloaders(shuffle={'train' : True, 'test' : True})"
   ]
  },
  {
   "cell_type": "code",
   "execution_count": 12,
   "metadata": {},
   "outputs": [],
   "source": [
    "# Create an image batch\n",
    "X, y = next(iter(trainer.val_loader))\n",
    "# Push the input images to the device\n",
    "X = X.to(trainer.device)\n",
    "# Trace the model\n",
    "traced_module = torch.jit.trace(trainer.model, (X))\n",
    "# Write the trace module of the model to disk\n",
    "traced_module.save(temp_file_path) ### TODO: Need to work out where this is saved, and how to push to an artefact."
   ]
  },
  {
   "cell_type": "code",
   "execution_count": 37,
   "metadata": {},
   "outputs": [],
   "source": [
    "new_model_furl"
   ]
  },
  {
   "cell_type": "code",
   "execution_count": 14,
   "metadata": {},
   "outputs": [
    {
     "output_type": "execute_result",
     "data": {
      "text/plain": [
       "furl('azure://clearmllibrary/artefacts/Caltech%20Birds%252FTraining/TRAIN%20%5BNetwork%253A%20resnet34,%20Library%253A%20torchvision%5D%20Ignite%20Train%20PyTorch%20CNN%20on%20CUB200.cedea43ac417467387d9d411cb794848/models')"
      ]
     },
     "metadata": {},
     "execution_count": 14
    }
   ],
   "source": [
    "# Build the remote location of the torchscript file, based on the best model weights\n",
    "# Create furl object of existing model weights\n",
    "model_furl = furl.furl(chkpnt_model.url)\n",
    "# Strip off the model path\n",
    "model_path = pathlib.Path(model_furl.pathstr)\n",
    "# Get the existing model weights name, and split the name from the file extension.\n",
    "file_split = os.path.splitext(model_path.name)\n",
    "# Create the torchscript filename\n",
    "#if fname is None:\n",
    "fname = file_split[0]+\"_torchscript\"+file_split[1]\n",
    "# Construct the new full uri with the new filename\n",
    "new_model_furl = furl.furl(origin=model_furl.origin, path=os.path.join(model_path.parent,fname))"
   ]
  },
  {
   "cell_type": "code",
   "execution_count": 38,
   "metadata": {},
   "outputs": [
    {
     "output_type": "execute_result",
     "data": {
      "text/plain": [
       "furl('azure://clearmllibrary/artefacts/Caltech%20Birds%252FTraining/TRAIN%20%5BNetwork%253A%20resnet34,%20Library%253A%20torchvision%5D%20Ignite%20Train%20PyTorch%20CNN%20on%20CUB200.cedea43ac417467387d9d411cb794848/models/cub200_resnet34_ignite_best_model_0_torchscript.pt')"
      ]
     },
     "metadata": {},
     "execution_count": 38
    }
   ],
   "source": [
    "new_model_furl"
   ]
  },
  {
   "cell_type": "code",
   "execution_count": null,
   "metadata": {},
   "outputs": [],
   "source": [
    "# Upload the torchscript model file to the clearml-server\n",
    "new_output_model = OutputModel(task=trainer.task)"
   ]
  },
  {
   "cell_type": "code",
   "execution_count": null,
   "metadata": {},
   "outputs": [],
   "source": [
    "new_output_model.update_weights(\n",
    "            weights_filename=temp_file_path,\n",
    "            upload_uri=new_model_furl.url\n",
    "            )"
   ]
  },
  {
   "cell_type": "code",
   "execution_count": 22,
   "metadata": {},
   "outputs": [
    {
     "output_type": "execute_result",
     "data": {
      "text/plain": [
       "furl('azure://clearmllibrary/artefacts/Caltech%20Birds%252FTraining/TRAIN%20%5BNetwork%253A%20resnet34,%20Library%253A%20torchvision%5D%20Ignite%20Train%20PyTorch%20CNN%20on%20CUB200.cedea43ac417467387d9d411cb794848/models?cub200_resnet34_ignite_best_model_0_torchscript.pt&%2Fcub200_resnet34_ignite_best_model_0_torchscript.pt')"
      ]
     },
     "metadata": {},
     "execution_count": 22
    }
   ],
   "source": []
  },
  {
   "cell_type": "code",
   "execution_count": null,
   "metadata": {},
   "outputs": [],
   "source": []
  }
 ]
}