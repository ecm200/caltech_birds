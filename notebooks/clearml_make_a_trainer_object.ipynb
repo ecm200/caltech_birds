{
 "cells": [
  {
   "cell_type": "code",
   "execution_count": 1,
   "id": "b908dd7a-d4c9-452e-8043-e9aeba4b967e",
   "metadata": {},
   "outputs": [],
   "source": [
    "# Local modules\n",
    "from cub_tools.trainer import Ignite_Trainer\n",
    "from cub_tools.args import get_parser\n",
    "\n",
    "from clearml import Dataset\n",
    "from clearml import Task"
   ]
  },
  {
   "cell_type": "code",
   "execution_count": 2,
   "id": "d83e4780-9179-4f7c-9354-3268f41fdf68",
   "metadata": {},
   "outputs": [],
   "source": [
    "config_file = '../scripts/configs/resnet152_config.yaml'"
   ]
  },
  {
   "cell_type": "code",
   "execution_count": 6,
   "id": "d2c7baf2-ed22-4de2-b134-3ee064c1a09e",
   "metadata": {},
   "outputs": [
    {
     "name": "stderr",
     "output_type": "stream",
     "text": [
      "usage: ipykernel_launcher.py [-h] [--config FILE] [--opts ...]\n",
      "ipykernel_launcher.py: error: unrecognized arguments: -f /home/edmorris/.local/share/jupyter/runtime/kernel-76ba7018-f453-4a3d-86ae-dbd62eb8dfc2.json\n"
     ]
    },
    {
     "ename": "SystemExit",
     "evalue": "2",
     "output_type": "error",
     "traceback": [
      "An exception has occurred, use %tb to see the full traceback.\n",
      "\u001b[0;31mSystemExit\u001b[0m\u001b[0;31m:\u001b[0m 2\n"
     ]
    }
   ],
   "source": [
    "parser = get_parser(config_file)\n",
    "#parser.print_help()\n",
    "args = parser.parse_args()"
   ]
  },
  {
   "cell_type": "code",
   "execution_count": null,
   "id": "4e8fa556-ee5d-4da6-81c7-72fd96bebf3c",
   "metadata": {},
   "outputs": [],
   "source": [
    "task = Task.init(project_name='Caltech Birds', task_name='image classification CUB200')\n",
    "params = {'TRAIN.NUM_EPOCHS': 20, 'TRAIN.BATCH_SIZE': 32, 'TRAIN.OPTIMIZER.PARAMS.lr': 0.001, 'TRAIN.OPTIMIZER.PARAMS.momentum': 0.9}\n",
    "params = task.connect(params)  # enabling configuration override by clearml\n",
    "print(params)  # printing actual configuration (after override in remote mode)"
   ]
  },
  {
   "cell_type": "code",
   "execution_count": null,
   "id": "1822a79b-c7a2-4c83-ac87-b834b491f408",
   "metadata": {},
   "outputs": [],
   "source": [
    "# Create the trainer object\n",
    "trainer = Ignite_Trainer(config=args.config, cmd_args=args.opts)"
   ]
  },
  {
   "cell_type": "code",
   "execution_count": null,
   "id": "6728fe7f-1c35-46ee-a374-c14a30b50ce3",
   "metadata": {},
   "outputs": [],
   "source": [
    "# Setup the data transformers\n",
    "print('[INFO] Creating data transforms...')\n",
    "trainer.create_datatransforms()\n",
    "\n",
    "# Setup the dataloaders\n",
    "print('[INFO] Creating data loaders...')\n",
    "trainer.create_dataloaders()\n",
    "\n",
    "# Setup the model\n",
    "print('[INFO] Creating the model...')\n",
    "trainer.create_model()\n",
    "\n",
    "# Setup the optimizer\n",
    "print('[INFO] Creating optimizer...')\n",
    "trainer.create_optimizer()\n",
    "\n",
    "# Setup the scheduler\n",
    "trainer.create_scheduler()"
   ]
  },
  {
   "cell_type": "code",
   "execution_count": 20,
   "id": "956ed139-6197-4216-96c8-1e8a5afe0a63",
   "metadata": {},
   "outputs": [],
   "source": [
    "params = {'TRAIN.NUM_EPOCHS': 20, 'TRAIN.BATCH_SIZE': 32, 'TRAIN.OPTIMIZER.PARAMS.lr': 0.001, 'TRAIN.OPTIMIZER.PARAMS.momentum': 0.9}"
   ]
  },
  {
   "cell_type": "code",
   "execution_count": 21,
   "id": "336a2981-1596-4a4e-9f14-f589edea8665",
   "metadata": {},
   "outputs": [
    {
     "data": {
      "text/plain": [
       "{'TRAIN.NUM_EPOCHS': 20,\n",
       " 'TRAIN.BATCH_SIZE': 32,\n",
       " 'TRAIN.OPTIMIZER.PARAMS.lr': 0.001,\n",
       " 'TRAIN.OPTIMIZER.PARAMS.momentum': 0.9}"
      ]
     },
     "execution_count": 21,
     "metadata": {},
     "output_type": "execute_result"
    }
   ],
   "source": [
    "params"
   ]
  },
  {
   "cell_type": "code",
   "execution_count": 24,
   "id": "8d0d6047-e8ee-4d6d-88d8-db7a6578a938",
   "metadata": {},
   "outputs": [],
   "source": [
    "params_list = []\n",
    "for key in params:\n",
    "    params_list.extend([key,params[key]])"
   ]
  },
  {
   "cell_type": "code",
   "execution_count": 25,
   "id": "e7db7d37-c900-4964-8b2d-4e74939a326e",
   "metadata": {},
   "outputs": [
    {
     "data": {
      "text/plain": [
       "['TRAIN.NUM_EPOCHS',\n",
       " 20,\n",
       " 'TRAIN.BATCH_SIZE',\n",
       " 32,\n",
       " 'TRAIN.OPTIMIZER.PARAMS.lr',\n",
       " 0.001,\n",
       " 'TRAIN.OPTIMIZER.PARAMS.momentum',\n",
       " 0.9]"
      ]
     },
     "execution_count": 25,
     "metadata": {},
     "output_type": "execute_result"
    }
   ],
   "source": [
    "params_list"
   ]
  },
  {
   "cell_type": "code",
   "execution_count": null,
   "id": "0ed1b78a-5f31-46af-afd9-ca9ce4152c91",
   "metadata": {},
   "outputs": [],
   "source": []
  }
 ],
 "metadata": {
  "kernelspec": {
   "display_name": "Python 3.8 ClearML [PyTorch 1.8.1 CUDA 11.1 TIMM]",
   "language": "python",
   "name": "py38_pytorch181_cu111_timm_clearml"
  },
  "language_info": {
   "codemirror_mode": {
    "name": "ipython",
    "version": 3
   },
   "file_extension": ".py",
   "mimetype": "text/x-python",
   "name": "python",
   "nbconvert_exporter": "python",
   "pygments_lexer": "ipython3",
   "version": "3.8.8"
  }
 },
 "nbformat": 4,
 "nbformat_minor": 5
}
