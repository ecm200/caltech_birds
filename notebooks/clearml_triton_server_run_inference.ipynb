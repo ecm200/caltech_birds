{
 "metadata": {
  "language_info": {
   "codemirror_mode": {
    "name": "ipython",
    "version": 3
   },
   "file_extension": ".py",
   "mimetype": "text/x-python",
   "name": "python",
   "nbconvert_exporter": "python",
   "pygments_lexer": "ipython3",
   "version": "3.8.8"
  },
  "orig_nbformat": 2,
  "kernelspec": {
   "name": "python388jvsc74a57bd072e97c359259e0d4732cbb87ea2e7e190d1217c6fbb57eef50d1ea3e9e1c073f",
   "display_name": "Python 3.8.8 64-bit ('py38_pytorch181_cu111_timm_triton': conda)"
  }
 },
 "nbformat": 4,
 "nbformat_minor": 2,
 "cells": [
  {
   "cell_type": "code",
   "execution_count": 2,
   "metadata": {},
   "outputs": [],
   "source": [
    "import argparse\n",
    "import numpy as np\n",
    "import sys\n",
    "from functools import partial\n",
    "import os\n",
    "from tritonclient import grpc\n",
    "import tritonclient.grpc.model_config_pb2 as mc\n",
    "from tritonclient import http\n",
    "from tritonclient.utils import triton_to_np_dtype\n",
    "from tritonclient.utils import InferenceServerException\n",
    "import torch\n",
    "from clearml import InputModel, Task\n",
    "import shutil\n",
    "import pathlib\n",
    "\n",
    "# Local modules\n",
    "from cub_tools.trainer import ClearML_Ignite_Trainer\n",
    "from cub_tools.args import get_parser\n",
    "from cub_tools.config import get_cfg_defaults, get_key_value_dict\n",
    "from cub_tools.triton import run_inference, get_model_info"
   ]
  },
  {
   "cell_type": "code",
   "execution_count": 1,
   "metadata": {},
   "outputs": [],
   "source": [
    "model_repo_path = '/home/edmorris/projects/image_classification/caltech_birds/models/clearml_repo/ignite_resnet34'\n",
    "model_config = '/home/edmorris/projects/image_classification/caltech_birds/scripts/configs/torchvision/resnet34_config.yaml'"
   ]
  },
  {
   "cell_type": "code",
   "execution_count": 3,
   "metadata": {},
   "outputs": [
    {
     "output_type": "stream",
     "name": "stdout",
     "text": [
      "2021-06-14 16:07:33,157 - clearml.storage - INFO - Downloading: 5.00MB / 81.72MB @ 19.43MBs from azure://clearmllibrary/artefacts/Caltech Birds%2FTraining/TRAIN [Network%3A resnet34, Library%3A torchvision] Ignite Train PyTorch CNN on CUB200.7ccafed2331443aba8735ee9e4a33cfe/models/cub200_resnet34_ignite_best_model_0.pt\n",
      "2021-06-14 16:07:33,348 - clearml.storage - INFO - Downloading: 13.00MB / 81.72MB @ 41.80MBs from azure://clearmllibrary/artefacts/Caltech Birds%2FTraining/TRAIN [Network%3A resnet34, Library%3A torchvision] Ignite Train PyTorch CNN on CUB200.7ccafed2331443aba8735ee9e4a33cfe/models/cub200_resnet34_ignite_best_model_0.pt\n",
      "2021-06-14 16:07:33,375 - clearml.storage - INFO - Downloading: 21.00MB / 81.72MB @ 299.33MBs from azure://clearmllibrary/artefacts/Caltech Birds%2FTraining/TRAIN [Network%3A resnet34, Library%3A torchvision] Ignite Train PyTorch CNN on CUB200.7ccafed2331443aba8735ee9e4a33cfe/models/cub200_resnet34_ignite_best_model_0.pt\n",
      "2021-06-14 16:07:33,389 - clearml.storage - INFO - Downloading: 29.00MB / 81.72MB @ 581.94MBs from azure://clearmllibrary/artefacts/Caltech Birds%2FTraining/TRAIN [Network%3A resnet34, Library%3A torchvision] Ignite Train PyTorch CNN on CUB200.7ccafed2331443aba8735ee9e4a33cfe/models/cub200_resnet34_ignite_best_model_0.pt\n",
      "2021-06-14 16:07:33,487 - clearml.storage - INFO - Downloading: 37.00MB / 81.72MB @ 81.69MBs from azure://clearmllibrary/artefacts/Caltech Birds%2FTraining/TRAIN [Network%3A resnet34, Library%3A torchvision] Ignite Train PyTorch CNN on CUB200.7ccafed2331443aba8735ee9e4a33cfe/models/cub200_resnet34_ignite_best_model_0.pt\n",
      "2021-06-14 16:07:33,513 - clearml.storage - INFO - Downloading: 45.00MB / 81.72MB @ 300.26MBs from azure://clearmllibrary/artefacts/Caltech Birds%2FTraining/TRAIN [Network%3A resnet34, Library%3A torchvision] Ignite Train PyTorch CNN on CUB200.7ccafed2331443aba8735ee9e4a33cfe/models/cub200_resnet34_ignite_best_model_0.pt\n",
      "2021-06-14 16:07:33,553 - clearml.storage - INFO - Downloading: 53.00MB / 81.72MB @ 201.02MBs from azure://clearmllibrary/artefacts/Caltech Birds%2FTraining/TRAIN [Network%3A resnet34, Library%3A torchvision] Ignite Train PyTorch CNN on CUB200.7ccafed2331443aba8735ee9e4a33cfe/models/cub200_resnet34_ignite_best_model_0.pt\n",
      "2021-06-14 16:07:33,586 - clearml.storage - INFO - Downloading: 61.00MB / 81.72MB @ 240.56MBs from azure://clearmllibrary/artefacts/Caltech Birds%2FTraining/TRAIN [Network%3A resnet34, Library%3A torchvision] Ignite Train PyTorch CNN on CUB200.7ccafed2331443aba8735ee9e4a33cfe/models/cub200_resnet34_ignite_best_model_0.pt\n",
      "2021-06-14 16:07:33,611 - clearml.storage - INFO - Downloading: 69.00MB / 81.72MB @ 330.64MBs from azure://clearmllibrary/artefacts/Caltech Birds%2FTraining/TRAIN [Network%3A resnet34, Library%3A torchvision] Ignite Train PyTorch CNN on CUB200.7ccafed2331443aba8735ee9e4a33cfe/models/cub200_resnet34_ignite_best_model_0.pt\n",
      "2021-06-14 16:07:33,637 - clearml.storage - INFO - Downloading: 77.72MB / 81.72MB @ 328.20MBs from azure://clearmllibrary/artefacts/Caltech Birds%2FTraining/TRAIN [Network%3A resnet34, Library%3A torchvision] Ignite Train PyTorch CNN on CUB200.7ccafed2331443aba8735ee9e4a33cfe/models/cub200_resnet34_ignite_best_model_0.pt\n",
      "2021-06-14 16:07:33,642 - clearml.storage - INFO - Downloaded 81.72 MB successfully from azure://clearmllibrary/artefacts/Caltech Birds%2FTraining/TRAIN [Network%3A resnet34, Library%3A torchvision] Ignite Train PyTorch CNN on CUB200.7ccafed2331443aba8735ee9e4a33cfe/models/cub200_resnet34_ignite_best_model_0.pt , saved to /home/edmorris/.clearml/cache/storage_manager/global/673ef0751293af799f525c3dfed99a48.cub200_resnet34_ignite_best_model_0.pt\n"
     ]
    }
   ],
   "source": [
    "\n",
    "model = InputModel(model_id=\"3c33df3afcc04e1cbc2d0330458a516f\")\n",
    "local_cache_path = model.get_local_copy()\n"
   ]
  },
  {
   "cell_type": "code",
   "execution_count": 4,
   "metadata": {},
   "outputs": [],
   "source": [
    "local_model_path = shutil.move(src=local_cache_path, dst=os.path.join(model_repo_path,pathlib.Path(local_cache_path).name))"
   ]
  },
  {
   "cell_type": "code",
   "execution_count": 5,
   "metadata": {},
   "outputs": [
    {
     "output_type": "stream",
     "name": "stdout",
     "text": [
      "[INFO] Parameters Override:: ['DIRS.CLEAN_UP', False, 'MODEL.PRETRAINED', False]\nDATA:\n  DATA_DIR: /home/edmorris/projects/image_classification/caltech_birds/data/images\n  NUM_CLASSES: 200\n  TEST_DIR: test\n  TRAIN_DIR: train\n  TRANSFORMS:\n    PARAMS:\n      AGGRESIVE:\n        persp_distortion_scale: 0.25\n        rotation_range: (-10.0, 10.0)\n        type: all\n      DEFAULT:\n        img_crop_size: 224\n        img_resize: 256\n    TYPE: default\nDIRS:\n  CLEAN_UP: False\n  ROOT_DIR: /home/edmorris/projects/image_classification/caltech_birds\n  WORKING_DIR: /home/edmorris/projects/image_classification/caltech_birds/models/classification/ignite_resnet34\nEARLY_STOPPING_PATIENCE: 5\nMODEL:\n  MODEL_LIBRARY: torchvision\n  MODEL_NAME: resnet34\n  PRETRAINED: False\n  WITH_AMP: False\n  WITH_GRAD_SCALE: False\nSYSTEM:\n  LOG_HISTORY: True\nTRAIN:\n  BATCH_SIZE: 16\n  LOSS:\n    CRITERION: CrossEntropy\n  NUM_EPOCHS: 40\n  NUM_WORKERS: 4\n  OPTIMIZER:\n    PARAMS:\n      lr: 0.001\n      momentum: 0.9\n      nesterov: True\n    TYPE: SGD\n  SCHEDULER:\n    PARAMS:\n      gamma: 0.1\n      step_size: 7\n    TYPE: StepLR\n"
     ]
    }
   ],
   "source": [
    "cmd_args = [\n",
    "    'DIRS.CLEAN_UP', False,     # Don't do anything to the directory structure.\n",
    "    'MODEL.PRETRAINED', False,  # Don't load default weights, as we want to load our own.\n",
    "    ]  \n",
    "trainer = ClearML_Ignite_Trainer(task=None, config=model_config, cmd_args=cmd_args) # TODO Get config from clearml task at some point. From model.task to get task ID, and then pull the task config.\n"
   ]
  },
  {
   "cell_type": "code",
   "execution_count": 6,
   "metadata": {},
   "outputs": [
    {
     "output_type": "stream",
     "name": "stdout",
     "text": [
      "***********************************************\n**            DATASET SUMMARY                **\n***********************************************\ntrain  size::  5994  images\ntest  size::  5794  images\nNumber of classes::  200\n***********************************************\n[INFO] Created data loaders.\n"
     ]
    }
   ],
   "source": [
    "# Get a sample dataset for running inference with\n",
    "trainer.create_datatransforms()\n",
    "trainer.create_dataloaders(shuffle={'train' : True, 'test' : True})"
   ]
  },
  {
   "cell_type": "code",
   "execution_count": 7,
   "metadata": {},
   "outputs": [
    {
     "output_type": "stream",
     "name": "stdout",
     "text": [
      "[INFO] Successfully created model but NOT pushed it to the device cuda:0\n----------------------------------------------------------------\n        Layer (type)               Output Shape         Param #\n================================================================\n            Conv2d-1         [16, 64, 112, 112]           9,408\n       BatchNorm2d-2         [16, 64, 112, 112]             128\n              ReLU-3         [16, 64, 112, 112]               0\n         MaxPool2d-4           [16, 64, 56, 56]               0\n            Conv2d-5           [16, 64, 56, 56]          36,864\n       BatchNorm2d-6           [16, 64, 56, 56]             128\n              ReLU-7           [16, 64, 56, 56]               0\n            Conv2d-8           [16, 64, 56, 56]          36,864\n       BatchNorm2d-9           [16, 64, 56, 56]             128\n             ReLU-10           [16, 64, 56, 56]               0\n       BasicBlock-11           [16, 64, 56, 56]               0\n           Conv2d-12           [16, 64, 56, 56]          36,864\n      BatchNorm2d-13           [16, 64, 56, 56]             128\n             ReLU-14           [16, 64, 56, 56]               0\n           Conv2d-15           [16, 64, 56, 56]          36,864\n      BatchNorm2d-16           [16, 64, 56, 56]             128\n             ReLU-17           [16, 64, 56, 56]               0\n       BasicBlock-18           [16, 64, 56, 56]               0\n           Conv2d-19           [16, 64, 56, 56]          36,864\n      BatchNorm2d-20           [16, 64, 56, 56]             128\n             ReLU-21           [16, 64, 56, 56]               0\n           Conv2d-22           [16, 64, 56, 56]          36,864\n      BatchNorm2d-23           [16, 64, 56, 56]             128\n             ReLU-24           [16, 64, 56, 56]               0\n       BasicBlock-25           [16, 64, 56, 56]               0\n           Conv2d-26          [16, 128, 28, 28]          73,728\n      BatchNorm2d-27          [16, 128, 28, 28]             256\n             ReLU-28          [16, 128, 28, 28]               0\n           Conv2d-29          [16, 128, 28, 28]         147,456\n      BatchNorm2d-30          [16, 128, 28, 28]             256\n           Conv2d-31          [16, 128, 28, 28]           8,192\n      BatchNorm2d-32          [16, 128, 28, 28]             256\n             ReLU-33          [16, 128, 28, 28]               0\n       BasicBlock-34          [16, 128, 28, 28]               0\n           Conv2d-35          [16, 128, 28, 28]         147,456\n      BatchNorm2d-36          [16, 128, 28, 28]             256\n             ReLU-37          [16, 128, 28, 28]               0\n           Conv2d-38          [16, 128, 28, 28]         147,456\n      BatchNorm2d-39          [16, 128, 28, 28]             256\n             ReLU-40          [16, 128, 28, 28]               0\n       BasicBlock-41          [16, 128, 28, 28]               0\n           Conv2d-42          [16, 128, 28, 28]         147,456\n      BatchNorm2d-43          [16, 128, 28, 28]             256\n             ReLU-44          [16, 128, 28, 28]               0\n           Conv2d-45          [16, 128, 28, 28]         147,456\n      BatchNorm2d-46          [16, 128, 28, 28]             256\n             ReLU-47          [16, 128, 28, 28]               0\n       BasicBlock-48          [16, 128, 28, 28]               0\n           Conv2d-49          [16, 128, 28, 28]         147,456\n      BatchNorm2d-50          [16, 128, 28, 28]             256\n             ReLU-51          [16, 128, 28, 28]               0\n           Conv2d-52          [16, 128, 28, 28]         147,456\n      BatchNorm2d-53          [16, 128, 28, 28]             256\n             ReLU-54          [16, 128, 28, 28]               0\n       BasicBlock-55          [16, 128, 28, 28]               0\n           Conv2d-56          [16, 256, 14, 14]         294,912\n      BatchNorm2d-57          [16, 256, 14, 14]             512\n             ReLU-58          [16, 256, 14, 14]               0\n           Conv2d-59          [16, 256, 14, 14]         589,824\n      BatchNorm2d-60          [16, 256, 14, 14]             512\n           Conv2d-61          [16, 256, 14, 14]          32,768\n      BatchNorm2d-62          [16, 256, 14, 14]             512\n             ReLU-63          [16, 256, 14, 14]               0\n       BasicBlock-64          [16, 256, 14, 14]               0\n           Conv2d-65          [16, 256, 14, 14]         589,824\n      BatchNorm2d-66          [16, 256, 14, 14]             512\n             ReLU-67          [16, 256, 14, 14]               0\n           Conv2d-68          [16, 256, 14, 14]         589,824\n      BatchNorm2d-69          [16, 256, 14, 14]             512\n             ReLU-70          [16, 256, 14, 14]               0\n       BasicBlock-71          [16, 256, 14, 14]               0\n           Conv2d-72          [16, 256, 14, 14]         589,824\n      BatchNorm2d-73          [16, 256, 14, 14]             512\n             ReLU-74          [16, 256, 14, 14]               0\n           Conv2d-75          [16, 256, 14, 14]         589,824\n      BatchNorm2d-76          [16, 256, 14, 14]             512\n             ReLU-77          [16, 256, 14, 14]               0\n       BasicBlock-78          [16, 256, 14, 14]               0\n           Conv2d-79          [16, 256, 14, 14]         589,824\n      BatchNorm2d-80          [16, 256, 14, 14]             512\n             ReLU-81          [16, 256, 14, 14]               0\n           Conv2d-82          [16, 256, 14, 14]         589,824\n      BatchNorm2d-83          [16, 256, 14, 14]             512\n             ReLU-84          [16, 256, 14, 14]               0\n       BasicBlock-85          [16, 256, 14, 14]               0\n           Conv2d-86          [16, 256, 14, 14]         589,824\n      BatchNorm2d-87          [16, 256, 14, 14]             512\n             ReLU-88          [16, 256, 14, 14]               0\n           Conv2d-89          [16, 256, 14, 14]         589,824\n      BatchNorm2d-90          [16, 256, 14, 14]             512\n             ReLU-91          [16, 256, 14, 14]               0\n       BasicBlock-92          [16, 256, 14, 14]               0\n           Conv2d-93          [16, 256, 14, 14]         589,824\n      BatchNorm2d-94          [16, 256, 14, 14]             512\n             ReLU-95          [16, 256, 14, 14]               0\n           Conv2d-96          [16, 256, 14, 14]         589,824\n      BatchNorm2d-97          [16, 256, 14, 14]             512\n             ReLU-98          [16, 256, 14, 14]               0\n       BasicBlock-99          [16, 256, 14, 14]               0\n          Conv2d-100            [16, 512, 7, 7]       1,179,648\n     BatchNorm2d-101            [16, 512, 7, 7]           1,024\n            ReLU-102            [16, 512, 7, 7]               0\n          Conv2d-103            [16, 512, 7, 7]       2,359,296\n     BatchNorm2d-104            [16, 512, 7, 7]           1,024\n          Conv2d-105            [16, 512, 7, 7]         131,072\n     BatchNorm2d-106            [16, 512, 7, 7]           1,024\n            ReLU-107            [16, 512, 7, 7]               0\n      BasicBlock-108            [16, 512, 7, 7]               0\n          Conv2d-109            [16, 512, 7, 7]       2,359,296\n     BatchNorm2d-110            [16, 512, 7, 7]           1,024\n            ReLU-111            [16, 512, 7, 7]               0\n          Conv2d-112            [16, 512, 7, 7]       2,359,296\n     BatchNorm2d-113            [16, 512, 7, 7]           1,024\n            ReLU-114            [16, 512, 7, 7]               0\n      BasicBlock-115            [16, 512, 7, 7]               0\n          Conv2d-116            [16, 512, 7, 7]       2,359,296\n     BatchNorm2d-117            [16, 512, 7, 7]           1,024\n            ReLU-118            [16, 512, 7, 7]               0\n          Conv2d-119            [16, 512, 7, 7]       2,359,296\n     BatchNorm2d-120            [16, 512, 7, 7]           1,024\n            ReLU-121            [16, 512, 7, 7]               0\n      BasicBlock-122            [16, 512, 7, 7]               0\nAdaptiveAvgPool2d-123            [16, 512, 1, 1]               0\n          Linear-124                  [16, 200]         102,600\n================================================================\nTotal params: 21,387,272\nTrainable params: 21,387,272\nNon-trainable params: 0\n----------------------------------------------------------------\nInput size (MB): 9.19\nForward/backward pass size (MB): 1540.52\nParams size (MB): 81.59\nEstimated Total Size (MB): 1631.30\n----------------------------------------------------------------\n"
     ]
    }
   ],
   "source": [
    "trainer.create_model(load_to_device=False)"
   ]
  },
  {
   "cell_type": "code",
   "execution_count": 8,
   "metadata": {},
   "outputs": [
    {
     "output_type": "stream",
     "name": "stdout",
     "text": [
      "[INFO] Successfully loaded weights into the model from weights file:: /home/edmorris/projects/image_classification/caltech_birds/models/clearml_repo/ignite_resnet34/673ef0751293af799f525c3dfed99a48.cub200_resnet34_ignite_best_model_0.pt\n[INFO] Successfully updated model and pushed it to the device cuda:0\n----------------------------------------------------------------\n        Layer (type)               Output Shape         Param #\n================================================================\n            Conv2d-1         [16, 64, 112, 112]           9,408\n       BatchNorm2d-2         [16, 64, 112, 112]             128\n              ReLU-3         [16, 64, 112, 112]               0\n         MaxPool2d-4           [16, 64, 56, 56]               0\n            Conv2d-5           [16, 64, 56, 56]          36,864\n       BatchNorm2d-6           [16, 64, 56, 56]             128\n              ReLU-7           [16, 64, 56, 56]               0\n            Conv2d-8           [16, 64, 56, 56]          36,864\n       BatchNorm2d-9           [16, 64, 56, 56]             128\n             ReLU-10           [16, 64, 56, 56]               0\n       BasicBlock-11           [16, 64, 56, 56]               0\n           Conv2d-12           [16, 64, 56, 56]          36,864\n      BatchNorm2d-13           [16, 64, 56, 56]             128\n             ReLU-14           [16, 64, 56, 56]               0\n           Conv2d-15           [16, 64, 56, 56]          36,864\n      BatchNorm2d-16           [16, 64, 56, 56]             128\n             ReLU-17           [16, 64, 56, 56]               0\n       BasicBlock-18           [16, 64, 56, 56]               0\n           Conv2d-19           [16, 64, 56, 56]          36,864\n      BatchNorm2d-20           [16, 64, 56, 56]             128\n             ReLU-21           [16, 64, 56, 56]               0\n           Conv2d-22           [16, 64, 56, 56]          36,864\n      BatchNorm2d-23           [16, 64, 56, 56]             128\n             ReLU-24           [16, 64, 56, 56]               0\n       BasicBlock-25           [16, 64, 56, 56]               0\n           Conv2d-26          [16, 128, 28, 28]          73,728\n      BatchNorm2d-27          [16, 128, 28, 28]             256\n             ReLU-28          [16, 128, 28, 28]               0\n           Conv2d-29          [16, 128, 28, 28]         147,456\n      BatchNorm2d-30          [16, 128, 28, 28]             256\n           Conv2d-31          [16, 128, 28, 28]           8,192\n      BatchNorm2d-32          [16, 128, 28, 28]             256\n             ReLU-33          [16, 128, 28, 28]               0\n       BasicBlock-34          [16, 128, 28, 28]               0\n           Conv2d-35          [16, 128, 28, 28]         147,456\n      BatchNorm2d-36          [16, 128, 28, 28]             256\n             ReLU-37          [16, 128, 28, 28]               0\n           Conv2d-38          [16, 128, 28, 28]         147,456\n      BatchNorm2d-39          [16, 128, 28, 28]             256\n             ReLU-40          [16, 128, 28, 28]               0\n       BasicBlock-41          [16, 128, 28, 28]               0\n           Conv2d-42          [16, 128, 28, 28]         147,456\n      BatchNorm2d-43          [16, 128, 28, 28]             256\n             ReLU-44          [16, 128, 28, 28]               0\n           Conv2d-45          [16, 128, 28, 28]         147,456\n      BatchNorm2d-46          [16, 128, 28, 28]             256\n             ReLU-47          [16, 128, 28, 28]               0\n       BasicBlock-48          [16, 128, 28, 28]               0\n           Conv2d-49          [16, 128, 28, 28]         147,456\n      BatchNorm2d-50          [16, 128, 28, 28]             256\n             ReLU-51          [16, 128, 28, 28]               0\n           Conv2d-52          [16, 128, 28, 28]         147,456\n      BatchNorm2d-53          [16, 128, 28, 28]             256\n             ReLU-54          [16, 128, 28, 28]               0\n       BasicBlock-55          [16, 128, 28, 28]               0\n           Conv2d-56          [16, 256, 14, 14]         294,912\n      BatchNorm2d-57          [16, 256, 14, 14]             512\n             ReLU-58          [16, 256, 14, 14]               0\n           Conv2d-59          [16, 256, 14, 14]         589,824\n      BatchNorm2d-60          [16, 256, 14, 14]             512\n           Conv2d-61          [16, 256, 14, 14]          32,768\n      BatchNorm2d-62          [16, 256, 14, 14]             512\n             ReLU-63          [16, 256, 14, 14]               0\n       BasicBlock-64          [16, 256, 14, 14]               0\n           Conv2d-65          [16, 256, 14, 14]         589,824\n      BatchNorm2d-66          [16, 256, 14, 14]             512\n             ReLU-67          [16, 256, 14, 14]               0\n           Conv2d-68          [16, 256, 14, 14]         589,824\n      BatchNorm2d-69          [16, 256, 14, 14]             512\n             ReLU-70          [16, 256, 14, 14]               0\n       BasicBlock-71          [16, 256, 14, 14]               0\n           Conv2d-72          [16, 256, 14, 14]         589,824\n      BatchNorm2d-73          [16, 256, 14, 14]             512\n             ReLU-74          [16, 256, 14, 14]               0\n           Conv2d-75          [16, 256, 14, 14]         589,824\n      BatchNorm2d-76          [16, 256, 14, 14]             512\n             ReLU-77          [16, 256, 14, 14]               0\n       BasicBlock-78          [16, 256, 14, 14]               0\n           Conv2d-79          [16, 256, 14, 14]         589,824\n      BatchNorm2d-80          [16, 256, 14, 14]             512\n             ReLU-81          [16, 256, 14, 14]               0\n           Conv2d-82          [16, 256, 14, 14]         589,824\n      BatchNorm2d-83          [16, 256, 14, 14]             512\n             ReLU-84          [16, 256, 14, 14]               0\n       BasicBlock-85          [16, 256, 14, 14]               0\n           Conv2d-86          [16, 256, 14, 14]         589,824\n      BatchNorm2d-87          [16, 256, 14, 14]             512\n             ReLU-88          [16, 256, 14, 14]               0\n           Conv2d-89          [16, 256, 14, 14]         589,824\n      BatchNorm2d-90          [16, 256, 14, 14]             512\n             ReLU-91          [16, 256, 14, 14]               0\n       BasicBlock-92          [16, 256, 14, 14]               0\n           Conv2d-93          [16, 256, 14, 14]         589,824\n      BatchNorm2d-94          [16, 256, 14, 14]             512\n             ReLU-95          [16, 256, 14, 14]               0\n           Conv2d-96          [16, 256, 14, 14]         589,824\n      BatchNorm2d-97          [16, 256, 14, 14]             512\n             ReLU-98          [16, 256, 14, 14]               0\n       BasicBlock-99          [16, 256, 14, 14]               0\n          Conv2d-100            [16, 512, 7, 7]       1,179,648\n     BatchNorm2d-101            [16, 512, 7, 7]           1,024\n            ReLU-102            [16, 512, 7, 7]               0\n          Conv2d-103            [16, 512, 7, 7]       2,359,296\n     BatchNorm2d-104            [16, 512, 7, 7]           1,024\n          Conv2d-105            [16, 512, 7, 7]         131,072\n     BatchNorm2d-106            [16, 512, 7, 7]           1,024\n            ReLU-107            [16, 512, 7, 7]               0\n      BasicBlock-108            [16, 512, 7, 7]               0\n          Conv2d-109            [16, 512, 7, 7]       2,359,296\n     BatchNorm2d-110            [16, 512, 7, 7]           1,024\n            ReLU-111            [16, 512, 7, 7]               0\n          Conv2d-112            [16, 512, 7, 7]       2,359,296\n     BatchNorm2d-113            [16, 512, 7, 7]           1,024\n            ReLU-114            [16, 512, 7, 7]               0\n      BasicBlock-115            [16, 512, 7, 7]               0\n          Conv2d-116            [16, 512, 7, 7]       2,359,296\n     BatchNorm2d-117            [16, 512, 7, 7]           1,024\n            ReLU-118            [16, 512, 7, 7]               0\n          Conv2d-119            [16, 512, 7, 7]       2,359,296\n     BatchNorm2d-120            [16, 512, 7, 7]           1,024\n            ReLU-121            [16, 512, 7, 7]               0\n      BasicBlock-122            [16, 512, 7, 7]               0\nAdaptiveAvgPool2d-123            [16, 512, 1, 1]               0\n          Linear-124                  [16, 200]         102,600\n================================================================\nTotal params: 21,387,272\nTrainable params: 21,387,272\nNon-trainable params: 0\n----------------------------------------------------------------\nInput size (MB): 9.19\nForward/backward pass size (MB): 1540.52\nParams size (MB): 81.59\nEstimated Total Size (MB): 1631.30\n----------------------------------------------------------------\n"
     ]
    }
   ],
   "source": [
    "trainer.update_model_from_checkpoint(checkpoint_file=local_model_path)"
   ]
  },
  {
   "cell_type": "code",
   "execution_count": 9,
   "metadata": {
    "tags": []
   },
   "outputs": [
    {
     "output_type": "stream",
     "name": "stdout",
     "text": [
      "Result:: \ty\t\t:: [196   2] \n",
      "\t \ty_pred[local]\t:: [196   2] \n",
      "\t \ty_pred[triton]\t:: [122  58] \n",
      "\n",
      "Result:: \ty\t\t:: [122 141] \n",
      "\t \ty_pred[local]\t:: [122 146] \n",
      "\t \ty_pred[triton]\t:: [ 54 146] \n",
      "\n",
      "Result:: \ty\t\t:: [ 15 103] \n",
      "\t \ty_pred[local]\t:: [ 15 103] \n",
      "\t \ty_pred[triton]\t:: [177 157] \n",
      "\n",
      "Result:: \ty\t\t:: [ 87 180] \n",
      "\t \ty_pred[local]\t:: [ 87 180] \n",
      "\t \ty_pred[triton]\t:: [ 12 169] \n",
      "\n",
      "Result:: \ty\t\t:: [194 142] \n",
      "\t \ty_pred[local]\t:: [ 30 140] \n",
      "\t \ty_pred[triton]\t:: [138 144] \n",
      "\n",
      "Result:: \ty\t\t:: [164 178] \n",
      "\t \ty_pred[local]\t:: [164 178] \n",
      "\t \ty_pred[triton]\t:: [119 179] \n",
      "\n",
      "Result:: \ty\t\t:: [30 36] \n",
      "\t \ty_pred[local]\t:: [ 30 177] \n",
      "\t \ty_pred[triton]\t:: [169  69] \n",
      "\n",
      "Result:: \ty\t\t:: [ 51 163] \n",
      "\t \ty_pred[local]\t:: [ 51 163] \n",
      "\t \ty_pred[triton]\t:: [103  13] \n",
      "\n",
      "Result:: \ty\t\t:: [60 65] \n",
      "\t \ty_pred[local]\t:: [60 65] \n",
      "\t \ty_pred[triton]\t:: [136  44] \n",
      "\n"
     ]
    }
   ],
   "source": [
    "#model_conf, model_meta = get_model_info(model_name='cub200_resnext101', VERBOSE=False)\n",
    "\n",
    "for i in np.arange(1,10,1):\n",
    "\n",
    "    # Get a validation batch\n",
    "    X, y = next(iter(trainer.val_loader))\n",
    "    # Set the model into eval mode\n",
    "    trainer.model.eval()\n",
    "    # Push input images to gpu\n",
    "    X_gpu = X.to(trainer.device)\n",
    "    # Run inference on validatgion batch image\n",
    "    y_prob_pred = trainer.model(X_gpu)\n",
    "    # Get predicted classes\n",
    "    _, y_pred = torch.max(y_prob_pred, 1)\n",
    "\n",
    "    # Get Triton served predicted classes\n",
    "    y_pred_proba_remote, y_pred_remote = run_inference(X.numpy(), X.shape, model_name='cub200_resnext101', VERBOSE=False)\n",
    "\n",
    "    print('Result:: \\ty\\t\\t:: {} \\n\\t \\ty_pred[local]\\t:: {} \\n\\t \\ty_pred[triton]\\t:: {} '.format(y.numpy(),y_pred.cpu().numpy(),y_pred_remote))\n",
    "    print('')"
   ]
  },
  {
   "cell_type": "code",
   "execution_count": null,
   "metadata": {},
   "outputs": [],
   "source": [
    "model_conf"
   ]
  },
  {
   "cell_type": "code",
   "execution_count": null,
   "metadata": {},
   "outputs": [],
   "source": [
    "model_meta['name']"
   ]
  },
  {
   "cell_type": "code",
   "execution_count": null,
   "metadata": {},
   "outputs": [],
   "source": [
    "for key in model_meta.keys():\n",
    "    print('{}   ::  {}'.format(key,model_meta[key]))"
   ]
  },
  {
   "cell_type": "code",
   "execution_count": null,
   "metadata": {},
   "outputs": [],
   "source": []
  }
 ]
}