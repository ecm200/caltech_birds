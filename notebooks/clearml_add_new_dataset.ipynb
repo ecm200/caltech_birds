{
 "cells": [
  {
   "cell_type": "code",
   "execution_count": 1,
   "id": "b908dd7a-d4c9-452e-8043-e9aeba4b967e",
   "metadata": {},
   "outputs": [],
   "source": [
    "# Local modules\n",
    "from cub_tools.trainer import Ignite_Trainer\n",
    "from cub_tools.args import get_parser\n",
    "\n",
    "from clearml import Dataset\n",
    "from clearml import Task"
   ]
  },
  {
   "cell_type": "code",
   "execution_count": 2,
   "id": "7d91a43d-1e6b-4671-a12d-0398dd075bc9",
   "metadata": {},
   "outputs": [],
   "source": [
    "dataset_train = Dataset.create('cub200_2011_train_dataset__AZURE_BLOB_VERSION', dataset_project='Caltech Birds')"
   ]
  },
  {
   "cell_type": "code",
   "execution_count": 3,
   "id": "8c4fbfd0-d5e1-4d2a-85a5-58c30612700a",
   "metadata": {},
   "outputs": [
    {
     "name": "stdout",
     "output_type": "stream",
     "text": [
      "Generating SHA2 hash for 5994 files\n",
      "Hash generation completed\n"
     ]
    },
    {
     "data": {
      "text/plain": [
       "5994"
      ]
     },
     "execution_count": 3,
     "metadata": {},
     "output_type": "execute_result"
    }
   ],
   "source": [
    "dataset_train.add_files(path='../data/images/train/', verbose=False)"
   ]
  },
  {
   "cell_type": "code",
   "execution_count": 4,
   "id": "2c8aeb1a-99af-468e-ab49-4452b04621b0",
   "metadata": {},
   "outputs": [
    {
     "name": "stdout",
     "output_type": "stream",
     "text": [
      "Uploading compressed dataset changes (5994 files, total 576.82 MB) to azure://clearmllibrary/datasets\n",
      "2021-05-21 14:22:14,236 - clearml.storage - INFO - Uploading: 12.00MB / 550.10MB @ 42.02MBs from /tmp/dataset.e427a7be11884027a8d7fad01014efb3.zip\n",
      "2021-05-21 14:22:14,368 - clearml.storage - INFO - Uploading: 24.00MB / 550.10MB @ 90.76MBs from /tmp/dataset.e427a7be11884027a8d7fad01014efb3.zip\n",
      "2021-05-21 14:22:14,494 - clearml.storage - INFO - Uploading: 40.00MB / 550.10MB @ 126.68MBs from /tmp/dataset.e427a7be11884027a8d7fad01014efb3.zip\n",
      "2021-05-21 14:22:14,500 - clearml.storage - INFO - Uploading: 60.00MB / 550.10MB @ 3397.02MBs from /tmp/dataset.e427a7be11884027a8d7fad01014efb3.zip\n",
      "2021-05-21 14:22:14,631 - clearml.storage - INFO - Uploading: 84.00MB / 550.10MB @ 183.77MBs from /tmp/dataset.e427a7be11884027a8d7fad01014efb3.zip\n",
      "2021-05-21 14:22:14,633 - clearml.storage - INFO - Uploading: 112.00MB / 550.10MB @ 10247.86MBs from /tmp/dataset.e427a7be11884027a8d7fad01014efb3.zip\n",
      "2021-05-21 14:22:14,753 - clearml.storage - INFO - Uploading: 144.00MB / 550.10MB @ 268.25MBs from /tmp/dataset.e427a7be11884027a8d7fad01014efb3.zip\n",
      "2021-05-21 14:22:14,787 - clearml.storage - INFO - Uploading: 180.00MB / 550.10MB @ 1049.88MBs from /tmp/dataset.e427a7be11884027a8d7fad01014efb3.zip\n",
      "2021-05-21 14:22:14,908 - clearml.storage - INFO - Uploading: 220.00MB / 550.10MB @ 330.93MBs from /tmp/dataset.e427a7be11884027a8d7fad01014efb3.zip\n",
      "2021-05-21 14:22:15,010 - clearml.storage - INFO - Uploading: 264.00MB / 550.10MB @ 431.18MBs from /tmp/dataset.e427a7be11884027a8d7fad01014efb3.zip\n",
      "2021-05-21 14:22:15,019 - clearml.storage - INFO - Uploading: 312.00MB / 550.10MB @ 5199.68MBs from /tmp/dataset.e427a7be11884027a8d7fad01014efb3.zip\n",
      "2021-05-21 14:22:15,188 - clearml.storage - INFO - Uploading: 364.00MB / 550.10MB @ 307.64MBs from /tmp/dataset.e427a7be11884027a8d7fad01014efb3.zip\n",
      "2021-05-21 14:22:15,244 - clearml.storage - INFO - Uploading: 420.00MB / 550.10MB @ 996.97MBs from /tmp/dataset.e427a7be11884027a8d7fad01014efb3.zip\n",
      "2021-05-21 14:22:15,279 - clearml.storage - INFO - Uploading: 480.00MB / 550.10MB @ 1758.30MBs from /tmp/dataset.e427a7be11884027a8d7fad01014efb3.zip\n",
      "2021-05-21 14:22:15,394 - clearml.storage - INFO - Uploading: 544.00MB / 550.10MB @ 553.58MBs from /tmp/dataset.e427a7be11884027a8d7fad01014efb3.zip\n",
      "2021-05-21 14:22:15,447 - clearml.storage - INFO - Uploading: 612.00MB / 550.10MB @ 1287.43MBs from /tmp/dataset.e427a7be11884027a8d7fad01014efb3.zip\n",
      "2021-05-21 14:22:15,545 - clearml.storage - INFO - Uploading: 684.00MB / 550.10MB @ 734.53MBs from /tmp/dataset.e427a7be11884027a8d7fad01014efb3.zip\n",
      "2021-05-21 14:22:15,576 - clearml.storage - INFO - Uploading: 760.00MB / 550.10MB @ 2429.28MBs from /tmp/dataset.e427a7be11884027a8d7fad01014efb3.zip\n",
      "2021-05-21 14:22:15,670 - clearml.storage - INFO - Uploading: 840.00MB / 550.10MB @ 852.26MBs from /tmp/dataset.e427a7be11884027a8d7fad01014efb3.zip\n",
      "2021-05-21 14:22:15,782 - clearml.storage - INFO - Uploading: 924.00MB / 550.10MB @ 748.66MBs from /tmp/dataset.e427a7be11884027a8d7fad01014efb3.zip\n",
      "2021-05-21 14:22:15,875 - clearml.storage - INFO - Uploading: 1012.00MB / 550.10MB @ 946.90MBs from /tmp/dataset.e427a7be11884027a8d7fad01014efb3.zip\n",
      "2021-05-21 14:22:15,893 - clearml.storage - INFO - Uploading: 1104.00MB / 550.10MB @ 5280.04MBs from /tmp/dataset.e427a7be11884027a8d7fad01014efb3.zip\n",
      "2021-05-21 14:22:15,976 - clearml.storage - INFO - Uploading: 1200.00MB / 550.10MB @ 1158.14MBs from /tmp/dataset.e427a7be11884027a8d7fad01014efb3.zip\n",
      "2021-05-21 14:22:16,113 - clearml.storage - INFO - Uploading: 1300.00MB / 550.10MB @ 726.30MBs from /tmp/dataset.e427a7be11884027a8d7fad01014efb3.zip\n",
      "2021-05-21 14:22:16,206 - clearml.storage - INFO - Uploading: 1404.00MB / 550.10MB @ 1120.38MBs from /tmp/dataset.e427a7be11884027a8d7fad01014efb3.zip\n",
      "2021-05-21 14:22:16,271 - clearml.storage - INFO - Uploading: 1512.00MB / 550.10MB @ 1674.30MBs from /tmp/dataset.e427a7be11884027a8d7fad01014efb3.zip\n",
      "2021-05-21 14:22:16,323 - clearml.storage - INFO - Uploading: 1624.00MB / 550.10MB @ 2151.81MBs from /tmp/dataset.e427a7be11884027a8d7fad01014efb3.zip\n",
      "2021-05-21 14:22:16,432 - clearml.storage - INFO - Uploading: 1740.00MB / 550.10MB @ 1059.03MBs from /tmp/dataset.e427a7be11884027a8d7fad01014efb3.zip\n",
      "2021-05-21 14:22:16,492 - clearml.storage - INFO - Uploading: 1860.00MB / 550.10MB @ 2017.28MBs from /tmp/dataset.e427a7be11884027a8d7fad01014efb3.zip\n",
      "2021-05-21 14:22:16,559 - clearml.storage - INFO - Uploading: 1984.00MB / 550.10MB @ 1834.00MBs from /tmp/dataset.e427a7be11884027a8d7fad01014efb3.zip\n",
      "2021-05-21 14:22:16,688 - clearml.storage - INFO - Uploading: 2112.00MB / 550.10MB @ 996.01MBs from /tmp/dataset.e427a7be11884027a8d7fad01014efb3.zip\n",
      "2021-05-21 14:22:16,702 - clearml.storage - INFO - Uploading: 2244.00MB / 550.10MB @ 9289.55MBs from /tmp/dataset.e427a7be11884027a8d7fad01014efb3.zip\n",
      "2021-05-21 14:22:16,815 - clearml.storage - INFO - Uploading: 2380.00MB / 550.10MB @ 1206.97MBs from /tmp/dataset.e427a7be11884027a8d7fad01014efb3.zip\n",
      "2021-05-21 14:22:16,878 - clearml.storage - INFO - Uploading: 2520.00MB / 550.10MB @ 2204.02MBs from /tmp/dataset.e427a7be11884027a8d7fad01014efb3.zip\n",
      "2021-05-21 14:22:16,954 - clearml.storage - INFO - Uploading: 2664.00MB / 550.10MB @ 1896.90MBs from /tmp/dataset.e427a7be11884027a8d7fad01014efb3.zip\n",
      "2021-05-21 14:22:17,022 - clearml.storage - INFO - Uploading: 2812.00MB / 550.10MB @ 2179.30MBs from /tmp/dataset.e427a7be11884027a8d7fad01014efb3.zip\n",
      "2021-05-21 14:22:17,109 - clearml.storage - INFO - Uploading: 2964.00MB / 550.10MB @ 1740.19MBs from /tmp/dataset.e427a7be11884027a8d7fad01014efb3.zip\n",
      "2021-05-21 14:22:17,225 - clearml.storage - INFO - Uploading: 3120.00MB / 550.10MB @ 1346.51MBs from /tmp/dataset.e427a7be11884027a8d7fad01014efb3.zip\n",
      "2021-05-21 14:22:17,236 - clearml.storage - INFO - Uploading: 3280.00MB / 550.10MB @ 15429.81MBs from /tmp/dataset.e427a7be11884027a8d7fad01014efb3.zip\n",
      "2021-05-21 14:22:17,364 - clearml.storage - INFO - Uploading: 3444.00MB / 550.10MB @ 1279.08MBs from /tmp/dataset.e427a7be11884027a8d7fad01014efb3.zip\n",
      "2021-05-21 14:22:17,438 - clearml.storage - INFO - Uploading: 3612.00MB / 550.10MB @ 2262.07MBs from /tmp/dataset.e427a7be11884027a8d7fad01014efb3.zip\n",
      "2021-05-21 14:22:17,665 - clearml.storage - INFO - Uploading: 3784.00MB / 550.10MB @ 759.93MBs from /tmp/dataset.e427a7be11884027a8d7fad01014efb3.zip\n",
      "2021-05-21 14:22:17,715 - clearml.storage - INFO - Uploading: 3960.00MB / 550.10MB @ 3453.04MBs from /tmp/dataset.e427a7be11884027a8d7fad01014efb3.zip\n",
      "2021-05-21 14:22:17,899 - clearml.storage - INFO - Uploading: 4140.00MB / 550.10MB @ 982.57MBs from /tmp/dataset.e427a7be11884027a8d7fad01014efb3.zip\n",
      "2021-05-21 14:22:17,981 - clearml.storage - INFO - Uploading: 4324.00MB / 550.10MB @ 2224.25MBs from /tmp/dataset.e427a7be11884027a8d7fad01014efb3.zip\n",
      "2021-05-21 14:22:18,073 - clearml.storage - INFO - Uploading: 4512.00MB / 550.10MB @ 2051.60MBs from /tmp/dataset.e427a7be11884027a8d7fad01014efb3.zip\n",
      "2021-05-21 14:22:18,167 - clearml.storage - INFO - Uploading: 4704.00MB / 550.10MB @ 2039.00MBs from /tmp/dataset.e427a7be11884027a8d7fad01014efb3.zip\n",
      "2021-05-21 14:22:18,257 - clearml.storage - INFO - Uploading: 4900.00MB / 550.10MB @ 2186.34MBs from /tmp/dataset.e427a7be11884027a8d7fad01014efb3.zip\n",
      "2021-05-21 14:22:18,361 - clearml.storage - INFO - Uploading: 5100.00MB / 550.10MB @ 1916.05MBs from /tmp/dataset.e427a7be11884027a8d7fad01014efb3.zip\n",
      "2021-05-21 14:22:18,432 - clearml.storage - INFO - Uploading: 5304.00MB / 550.10MB @ 2873.49MBs from /tmp/dataset.e427a7be11884027a8d7fad01014efb3.zip\n",
      "2021-05-21 14:22:18,493 - clearml.storage - INFO - Uploading: 5512.00MB / 550.10MB @ 3443.29MBs from /tmp/dataset.e427a7be11884027a8d7fad01014efb3.zip\n",
      "2021-05-21 14:22:18,593 - clearml.storage - INFO - Uploading: 5724.00MB / 550.10MB @ 2106.11MBs from /tmp/dataset.e427a7be11884027a8d7fad01014efb3.zip\n",
      "2021-05-21 14:22:18,606 - clearml.storage - INFO - Uploading: 5940.00MB / 550.10MB @ 16860.90MBs from /tmp/dataset.e427a7be11884027a8d7fad01014efb3.zip\n",
      "2021-05-21 14:22:18,701 - clearml.storage - INFO - Uploading: 6160.00MB / 550.10MB @ 2307.06MBs from /tmp/dataset.e427a7be11884027a8d7fad01014efb3.zip\n",
      "2021-05-21 14:22:18,712 - clearml.storage - INFO - Uploading: 6384.00MB / 550.10MB @ 21171.42MBs from /tmp/dataset.e427a7be11884027a8d7fad01014efb3.zip\n",
      "2021-05-21 14:22:18,938 - clearml.storage - INFO - Uploading: 6612.00MB / 550.10MB @ 1006.80MBs from /tmp/dataset.e427a7be11884027a8d7fad01014efb3.zip\n",
      "2021-05-21 14:22:19,068 - clearml.storage - INFO - Uploading: 6844.00MB / 550.10MB @ 1793.17MBs from /tmp/dataset.e427a7be11884027a8d7fad01014efb3.zip\n",
      "2021-05-21 14:22:19,182 - clearml.storage - INFO - Uploading: 7080.00MB / 550.10MB @ 2072.27MBs from /tmp/dataset.e427a7be11884027a8d7fad01014efb3.zip\n",
      "2021-05-21 14:22:19,210 - clearml.storage - INFO - Uploading: 7320.00MB / 550.10MB @ 8382.18MBs from /tmp/dataset.e427a7be11884027a8d7fad01014efb3.zip\n",
      "2021-05-21 14:22:19,297 - clearml.storage - INFO - Uploading: 7564.00MB / 550.10MB @ 2822.08MBs from /tmp/dataset.e427a7be11884027a8d7fad01014efb3.zip\n",
      "2021-05-21 14:22:19,311 - clearml.storage - INFO - Uploading: 7812.00MB / 550.10MB @ 18085.50MBs from /tmp/dataset.e427a7be11884027a8d7fad01014efb3.zip\n",
      "2021-05-21 14:22:19,384 - clearml.storage - INFO - Uploading: 8064.00MB / 550.10MB @ 3414.95MBs from /tmp/dataset.e427a7be11884027a8d7fad01014efb3.zip\n",
      "2021-05-21 14:22:19,496 - clearml.storage - INFO - Uploading: 8320.00MB / 550.10MB @ 2295.74MBs from /tmp/dataset.e427a7be11884027a8d7fad01014efb3.zip\n",
      "2021-05-21 14:22:19,499 - clearml.storage - INFO - Uploading: 8580.00MB / 550.10MB @ 87563.76MBs from /tmp/dataset.e427a7be11884027a8d7fad01014efb3.zip\n",
      "2021-05-21 14:22:19,604 - clearml.storage - INFO - Uploading: 8844.00MB / 550.10MB @ 2505.21MBs from /tmp/dataset.e427a7be11884027a8d7fad01014efb3.zip\n",
      "2021-05-21 14:22:19,717 - clearml.storage - INFO - Uploading: 9112.00MB / 550.10MB @ 2374.30MBs from /tmp/dataset.e427a7be11884027a8d7fad01014efb3.zip\n",
      "2021-05-21 14:22:19,854 - clearml.storage - INFO - Uploading: 9384.00MB / 550.10MB @ 1982.64MBs from /tmp/dataset.e427a7be11884027a8d7fad01014efb3.zip\n",
      "2021-05-21 14:22:19,980 - clearml.storage - INFO - Uploading: 9660.00MB / 550.10MB @ 2186.49MBs from /tmp/dataset.e427a7be11884027a8d7fad01014efb3.zip\n",
      "2021-05-21 14:22:20,085 - clearml.storage - INFO - Uploading: 9940.00MB / 550.10MB @ 2668.91MBs from /tmp/dataset.e427a7be11884027a8d7fad01014efb3.zip\n",
      "2021-05-21 14:22:20,107 - clearml.storage - INFO - Uploading: 10224.00MB / 550.10MB @ 13097.54MBs from /tmp/dataset.e427a7be11884027a8d7fad01014efb3.zip\n",
      "2021-05-21 14:22:20,199 - clearml.storage - INFO - Uploading: 10512.00MB / 550.10MB @ 3127.65MBs from /tmp/dataset.e427a7be11884027a8d7fad01014efb3.zip\n",
      "2021-05-21 14:22:20,202 - clearml.storage - INFO - Uploading: 10804.00MB / 550.10MB @ 105662.74MBs from /tmp/dataset.e427a7be11884027a8d7fad01014efb3.zip\n",
      "2021-05-21 14:22:20,321 - clearml.storage - INFO - Uploading: 11100.00MB / 550.10MB @ 2477.35MBs from /tmp/dataset.e427a7be11884027a8d7fad01014efb3.zip\n",
      "2021-05-21 14:22:20,327 - clearml.storage - INFO - Uploading: 11400.00MB / 550.10MB @ 49393.18MBs from /tmp/dataset.e427a7be11884027a8d7fad01014efb3.zip\n",
      "2021-05-21 14:22:20,494 - clearml.storage - INFO - Uploading: 11704.00MB / 550.10MB @ 1829.11MBs from /tmp/dataset.e427a7be11884027a8d7fad01014efb3.zip\n",
      "2021-05-21 14:22:20,496 - clearml.storage - INFO - Uploading: 12012.00MB / 550.10MB @ 122834.04MBs from /tmp/dataset.e427a7be11884027a8d7fad01014efb3.zip\n",
      "2021-05-21 14:22:20,595 - clearml.storage - INFO - Uploading: 12324.00MB / 550.10MB @ 3170.34MBs from /tmp/dataset.e427a7be11884027a8d7fad01014efb3.zip\n",
      "2021-05-21 14:22:20,646 - clearml.storage - INFO - Uploading: 12640.00MB / 550.10MB @ 6194.59MBs from /tmp/dataset.e427a7be11884027a8d7fad01014efb3.zip\n",
      "2021-05-21 14:22:20,699 - clearml.storage - INFO - Uploading: 12960.00MB / 550.10MB @ 6034.64MBs from /tmp/dataset.e427a7be11884027a8d7fad01014efb3.zip\n",
      "2021-05-21 14:22:20,766 - clearml.storage - INFO - Uploading: 13284.00MB / 550.10MB @ 4815.56MBs from /tmp/dataset.e427a7be11884027a8d7fad01014efb3.zip\n",
      "2021-05-21 14:22:20,823 - clearml.storage - INFO - Uploading: 13612.00MB / 550.10MB @ 5736.28MBs from /tmp/dataset.e427a7be11884027a8d7fad01014efb3.zip\n",
      "2021-05-21 14:22:20,954 - clearml.storage - INFO - Uploading: 13944.00MB / 550.10MB @ 2531.26MBs from /tmp/dataset.e427a7be11884027a8d7fad01014efb3.zip\n",
      "2021-05-21 14:22:20,978 - clearml.storage - INFO - Uploading: 14280.00MB / 550.10MB @ 14045.53MBs from /tmp/dataset.e427a7be11884027a8d7fad01014efb3.zip\n",
      "2021-05-21 14:22:21,059 - clearml.storage - INFO - Uploading: 14620.00MB / 550.10MB @ 4223.70MBs from /tmp/dataset.e427a7be11884027a8d7fad01014efb3.zip\n",
      "2021-05-21 14:22:21,160 - clearml.storage - INFO - Uploading: 14964.00MB / 550.10MB @ 3398.13MBs from /tmp/dataset.e427a7be11884027a8d7fad01014efb3.zip\n",
      "2021-05-21 14:22:21,325 - clearml.storage - INFO - Uploading: 15312.00MB / 550.10MB @ 2108.68MBs from /tmp/dataset.e427a7be11884027a8d7fad01014efb3.zip\n",
      "2021-05-21 14:22:21,363 - clearml.storage - INFO - Uploading: 15664.00MB / 550.10MB @ 9213.94MBs from /tmp/dataset.e427a7be11884027a8d7fad01014efb3.zip\n",
      "2021-05-21 14:22:21,589 - clearml.storage - INFO - Uploading: 16020.00MB / 550.10MB @ 1579.13MBs from /tmp/dataset.e427a7be11884027a8d7fad01014efb3.zip\n",
      "2021-05-21 14:22:21,627 - clearml.storage - INFO - Uploading: 16380.00MB / 550.10MB @ 9433.88MBs from /tmp/dataset.e427a7be11884027a8d7fad01014efb3.zip\n",
      "2021-05-21 14:22:21,810 - clearml.storage - INFO - Uploading: 16744.00MB / 550.10MB @ 1982.63MBs from /tmp/dataset.e427a7be11884027a8d7fad01014efb3.zip\n",
      "2021-05-21 14:22:21,881 - clearml.storage - INFO - Uploading: 17112.00MB / 550.10MB @ 5225.89MBs from /tmp/dataset.e427a7be11884027a8d7fad01014efb3.zip\n",
      "2021-05-21 14:22:22,011 - clearml.storage - INFO - Uploading: 17484.00MB / 550.10MB @ 2863.01MBs from /tmp/dataset.e427a7be11884027a8d7fad01014efb3.zip\n",
      "2021-05-21 14:22:22,043 - clearml.storage - INFO - Uploading: 17860.00MB / 550.10MB @ 11616.09MBs from /tmp/dataset.e427a7be11884027a8d7fad01014efb3.zip\n",
      "2021-05-21 14:22:22,137 - clearml.storage - INFO - Uploading: 18240.00MB / 550.10MB @ 4067.75MBs from /tmp/dataset.e427a7be11884027a8d7fad01014efb3.zip\n",
      "2021-05-21 14:22:22,152 - clearml.storage - INFO - Uploading: 18624.00MB / 550.10MB @ 25572.59MBs from /tmp/dataset.e427a7be11884027a8d7fad01014efb3.zip\n",
      "2021-05-21 14:22:22,247 - clearml.storage - INFO - Uploading: 19012.00MB / 550.10MB @ 4052.35MBs from /tmp/dataset.e427a7be11884027a8d7fad01014efb3.zip\n",
      "2021-05-21 14:22:22,375 - clearml.storage - INFO - Uploading: 19404.00MB / 550.10MB @ 3057.58MBs from /tmp/dataset.e427a7be11884027a8d7fad01014efb3.zip\n",
      "2021-05-21 14:22:22,378 - clearml.storage - INFO - Uploading: 19800.00MB / 550.10MB @ 165928.51MBs from /tmp/dataset.e427a7be11884027a8d7fad01014efb3.zip\n",
      "2021-05-21 14:22:22,463 - clearml.storage - INFO - Uploading: 20200.00MB / 550.10MB @ 4676.00MBs from /tmp/dataset.e427a7be11884027a8d7fad01014efb3.zip\n",
      "2021-05-21 14:22:22,562 - clearml.storage - INFO - Uploading: 20604.00MB / 550.10MB @ 4095.51MBs from /tmp/dataset.e427a7be11884027a8d7fad01014efb3.zip\n",
      "2021-05-21 14:22:22,606 - clearml.storage - INFO - Uploading: 21012.00MB / 550.10MB @ 9317.38MBs from /tmp/dataset.e427a7be11884027a8d7fad01014efb3.zip\n",
      "2021-05-21 14:22:22,736 - clearml.storage - INFO - Uploading: 21424.00MB / 550.10MB @ 3160.07MBs from /tmp/dataset.e427a7be11884027a8d7fad01014efb3.zip\n",
      "2021-05-21 14:22:22,782 - clearml.storage - INFO - Uploading: 21840.00MB / 550.10MB @ 9101.12MBs from /tmp/dataset.e427a7be11884027a8d7fad01014efb3.zip\n",
      "2021-05-21 14:22:22,884 - clearml.storage - INFO - Uploading: 22260.00MB / 550.10MB @ 4100.18MBs from /tmp/dataset.e427a7be11884027a8d7fad01014efb3.zip\n",
      "2021-05-21 14:22:22,894 - clearml.storage - INFO - Uploading: 22684.00MB / 550.10MB @ 45206.66MBs from /tmp/dataset.e427a7be11884027a8d7fad01014efb3.zip\n",
      "2021-05-21 14:22:22,977 - clearml.storage - INFO - Uploading: 23112.00MB / 550.10MB @ 5150.71MBs from /tmp/dataset.e427a7be11884027a8d7fad01014efb3.zip\n",
      "2021-05-21 14:22:22,987 - clearml.storage - INFO - Uploading: 23544.00MB / 550.10MB @ 40801.17MBs from /tmp/dataset.e427a7be11884027a8d7fad01014efb3.zip\n",
      "2021-05-21 14:22:23,069 - clearml.storage - INFO - Uploading: 23980.00MB / 550.10MB @ 5373.11MBs from /tmp/dataset.e427a7be11884027a8d7fad01014efb3.zip\n",
      "2021-05-21 14:22:23,073 - clearml.storage - INFO - Uploading: 24420.00MB / 550.10MB @ 106774.69MBs from /tmp/dataset.e427a7be11884027a8d7fad01014efb3.zip\n",
      "2021-05-21 14:22:23,169 - clearml.storage - INFO - Uploading: 24864.00MB / 550.10MB @ 4604.99MBs from /tmp/dataset.e427a7be11884027a8d7fad01014efb3.zip\n",
      "2021-05-21 14:22:23,227 - clearml.storage - INFO - Uploading: 25312.00MB / 550.10MB @ 7702.85MBs from /tmp/dataset.e427a7be11884027a8d7fad01014efb3.zip\n",
      "2021-05-21 14:22:23,278 - clearml.storage - INFO - Uploading: 25764.00MB / 550.10MB @ 8883.11MBs from /tmp/dataset.e427a7be11884027a8d7fad01014efb3.zip\n",
      "2021-05-21 14:22:23,375 - clearml.storage - INFO - Uploading: 26220.00MB / 550.10MB @ 4692.08MBs from /tmp/dataset.e427a7be11884027a8d7fad01014efb3.zip\n",
      "2021-05-21 14:22:23,416 - clearml.storage - INFO - Uploading: 26680.00MB / 550.10MB @ 11414.83MBs from /tmp/dataset.e427a7be11884027a8d7fad01014efb3.zip\n",
      "2021-05-21 14:22:23,504 - clearml.storage - INFO - Uploading: 27144.00MB / 550.10MB @ 5242.44MBs from /tmp/dataset.e427a7be11884027a8d7fad01014efb3.zip\n",
      "2021-05-21 14:22:23,576 - clearml.storage - INFO - Uploading: 27612.00MB / 550.10MB @ 6473.65MBs from /tmp/dataset.e427a7be11884027a8d7fad01014efb3.zip\n",
      "2021-05-21 14:22:23,670 - clearml.storage - INFO - Uploading: 28084.00MB / 550.10MB @ 5021.31MBs from /tmp/dataset.e427a7be11884027a8d7fad01014efb3.zip\n",
      "2021-05-21 14:22:23,737 - clearml.storage - INFO - Uploading: 28560.00MB / 550.10MB @ 7106.11MBs from /tmp/dataset.e427a7be11884027a8d7fad01014efb3.zip\n",
      "2021-05-21 14:22:23,784 - clearml.storage - INFO - Uploading: 29040.00MB / 550.10MB @ 10231.15MBs from /tmp/dataset.e427a7be11884027a8d7fad01014efb3.zip\n",
      "2021-05-21 14:22:23,826 - clearml.storage - INFO - Uploading: 29524.00MB / 550.10MB @ 11681.62MBs from /tmp/dataset.e427a7be11884027a8d7fad01014efb3.zip\n",
      "2021-05-21 14:22:23,931 - clearml.storage - INFO - Uploading: 30012.00MB / 550.10MB @ 4648.67MBs from /tmp/dataset.e427a7be11884027a8d7fad01014efb3.zip\n",
      "2021-05-21 14:22:24,228 - clearml.storage - INFO - Uploading: 30504.00MB / 550.10MB @ 1653.41MBs from /tmp/dataset.e427a7be11884027a8d7fad01014efb3.zip\n",
      "2021-05-21 14:22:24,231 - clearml.storage - INFO - Uploading: 31000.00MB / 550.10MB @ 167975.36MBs from /tmp/dataset.e427a7be11884027a8d7fad01014efb3.zip\n",
      "2021-05-21 14:22:24,553 - clearml.storage - INFO - Uploading: 31500.00MB / 550.10MB @ 1553.07MBs from /tmp/dataset.e427a7be11884027a8d7fad01014efb3.zip\n",
      "2021-05-21 14:22:24,556 - clearml.storage - INFO - Uploading: 32004.00MB / 550.10MB @ 165137.82MBs from /tmp/dataset.e427a7be11884027a8d7fad01014efb3.zip\n",
      "2021-05-21 14:22:24,646 - clearml.storage - INFO - Uploading: 32512.00MB / 550.10MB @ 5672.93MBs from /tmp/dataset.e427a7be11884027a8d7fad01014efb3.zip\n",
      "2021-05-21 14:22:24,696 - clearml.storage - INFO - Uploading: 33024.00MB / 550.10MB @ 10277.01MBs from /tmp/dataset.e427a7be11884027a8d7fad01014efb3.zip\n",
      "2021-05-21 14:22:24,730 - clearml.storage - INFO - Uploading: 33540.00MB / 550.10MB @ 15248.36MBs from /tmp/dataset.e427a7be11884027a8d7fad01014efb3.zip\n",
      "2021-05-21 14:22:24,828 - clearml.storage - INFO - Uploading: 34060.00MB / 550.10MB @ 5297.61MBs from /tmp/dataset.e427a7be11884027a8d7fad01014efb3.zip\n",
      "2021-05-21 14:22:24,973 - clearml.storage - INFO - Uploading: 34584.00MB / 550.10MB @ 3614.60MBs from /tmp/dataset.e427a7be11884027a8d7fad01014efb3.zip\n",
      "2021-05-21 14:22:25,009 - clearml.storage - INFO - Uploading: 35112.00MB / 550.10MB @ 14703.76MBs from /tmp/dataset.e427a7be11884027a8d7fad01014efb3.zip\n",
      "2021-05-21 14:22:25,073 - clearml.storage - INFO - Uploading: 35644.00MB / 550.10MB @ 8288.25MBs from /tmp/dataset.e427a7be11884027a8d7fad01014efb3.zip\n",
      "2021-05-21 14:22:25,102 - clearml.storage - INFO - Uploading: 36180.00MB / 550.10MB @ 18243.06MBs from /tmp/dataset.e427a7be11884027a8d7fad01014efb3.zip\n",
      "2021-05-21 14:22:25,177 - clearml.storage - INFO - Uploading: 36720.00MB / 550.10MB @ 7216.74MBs from /tmp/dataset.e427a7be11884027a8d7fad01014efb3.zip\n",
      "2021-05-21 14:22:25,218 - clearml.storage - INFO - Uploading: 37264.00MB / 550.10MB @ 13228.33MBs from /tmp/dataset.e427a7be11884027a8d7fad01014efb3.zip\n",
      "2021-05-21 14:22:25,282 - clearml.storage - INFO - Uploading: 37812.00MB / 550.10MB @ 8543.35MBs from /tmp/dataset.e427a7be11884027a8d7fad01014efb3.zip\n",
      "2021-05-21 14:22:25,379 - clearml.storage - INFO - Uploading: 38362.10MB / 550.10MB @ 5695.73MBs from /tmp/dataset.e427a7be11884027a8d7fad01014efb3.zip\n",
      "Upload completed (576.82 MB)\n"
     ]
    }
   ],
   "source": [
    "dataset_train.upload(output_url='azure://clearmllibrary/datasets')"
   ]
  },
  {
   "cell_type": "code",
   "execution_count": 5,
   "id": "1a75ada3-acf8-4056-beb5-ae77720a1643",
   "metadata": {},
   "outputs": [
    {
     "name": "stdout",
     "output_type": "stream",
     "text": [
      "2021-05-21 14:22:43,548 - clearml.Task - INFO - Waiting to finish uploads\n",
      "2021-05-21 14:22:43,586 - clearml.Task - INFO - Finished uploading\n"
     ]
    },
    {
     "data": {
      "text/plain": [
       "True"
      ]
     },
     "execution_count": 5,
     "metadata": {},
     "output_type": "execute_result"
    }
   ],
   "source": [
    "dataset_train.finalize()\n",
    "dataset_train.publish()"
   ]
  },
  {
   "cell_type": "code",
   "execution_count": 6,
   "id": "5ade8d9d-ccd9-4047-bdcb-4197f6496e0e",
   "metadata": {},
   "outputs": [],
   "source": [
    "dataset_test = Dataset.create('cub200_2011_test_dataset__AZURE_BLOB_VERSION', dataset_project='Caltech Birds')"
   ]
  },
  {
   "cell_type": "code",
   "execution_count": 7,
   "id": "658bedff-616e-4d7d-8d3b-4203ea5e69c9",
   "metadata": {},
   "outputs": [
    {
     "name": "stdout",
     "output_type": "stream",
     "text": [
      "Generating SHA2 hash for 5794 files\n",
      "Hash generation completed\n"
     ]
    },
    {
     "data": {
      "text/plain": [
       "5794"
      ]
     },
     "execution_count": 7,
     "metadata": {},
     "output_type": "execute_result"
    }
   ],
   "source": [
    "dataset_test.add_files(path='../data/images/test/', verbose=False)"
   ]
  },
  {
   "cell_type": "code",
   "execution_count": 8,
   "id": "0fe9fea9-3037-4f9b-873c-bb84089c9e2b",
   "metadata": {},
   "outputs": [
    {
     "name": "stdout",
     "output_type": "stream",
     "text": [
      "Uploading compressed dataset changes (5794 files, total 557.55 MB) to azure://clearmllibrary/datasets\n",
      "2021-05-21 14:25:42,274 - clearml.storage - INFO - Uploading: 12.00MB / 531.72MB @ 43.66MBs from /tmp/dataset.c9bb7b67f30345f1b6d3a2e932da75cf.zip\n",
      "2021-05-21 14:25:42,275 - clearml.storage - INFO - Uploading: 24.00MB / 531.72MB @ 14738.40MBs from /tmp/dataset.c9bb7b67f30345f1b6d3a2e932da75cf.zip\n",
      "2021-05-21 14:25:42,401 - clearml.storage - INFO - Uploading: 40.00MB / 531.72MB @ 127.22MBs from /tmp/dataset.c9bb7b67f30345f1b6d3a2e932da75cf.zip\n",
      "2021-05-21 14:25:42,511 - clearml.storage - INFO - Uploading: 60.00MB / 531.72MB @ 181.74MBs from /tmp/dataset.c9bb7b67f30345f1b6d3a2e932da75cf.zip\n",
      "2021-05-21 14:25:42,526 - clearml.storage - INFO - Uploading: 84.00MB / 531.72MB @ 1602.92MBs from /tmp/dataset.c9bb7b67f30345f1b6d3a2e932da75cf.zip\n",
      "2021-05-21 14:25:42,604 - clearml.storage - INFO - Uploading: 112.00MB / 531.72MB @ 358.20MBs from /tmp/dataset.c9bb7b67f30345f1b6d3a2e932da75cf.zip\n",
      "2021-05-21 14:25:42,715 - clearml.storage - INFO - Uploading: 144.00MB / 531.72MB @ 287.86MBs from /tmp/dataset.c9bb7b67f30345f1b6d3a2e932da75cf.zip\n",
      "2021-05-21 14:25:42,770 - clearml.storage - INFO - Uploading: 180.00MB / 531.72MB @ 653.28MBs from /tmp/dataset.c9bb7b67f30345f1b6d3a2e932da75cf.zip\n",
      "2021-05-21 14:25:42,888 - clearml.storage - INFO - Uploading: 220.00MB / 531.72MB @ 339.07MBs from /tmp/dataset.c9bb7b67f30345f1b6d3a2e932da75cf.zip\n",
      "2021-05-21 14:25:42,895 - clearml.storage - INFO - Uploading: 264.00MB / 531.72MB @ 6651.87MBs from /tmp/dataset.c9bb7b67f30345f1b6d3a2e932da75cf.zip\n",
      "2021-05-21 14:25:43,107 - clearml.storage - INFO - Uploading: 312.00MB / 531.72MB @ 225.79MBs from /tmp/dataset.c9bb7b67f30345f1b6d3a2e932da75cf.zip\n",
      "2021-05-21 14:25:43,118 - clearml.storage - INFO - Uploading: 364.00MB / 531.72MB @ 5032.97MBs from /tmp/dataset.c9bb7b67f30345f1b6d3a2e932da75cf.zip\n",
      "2021-05-21 14:25:43,211 - clearml.storage - INFO - Uploading: 420.00MB / 531.72MB @ 597.99MBs from /tmp/dataset.c9bb7b67f30345f1b6d3a2e932da75cf.zip\n",
      "2021-05-21 14:25:43,225 - clearml.storage - INFO - Uploading: 480.00MB / 531.72MB @ 4498.88MBs from /tmp/dataset.c9bb7b67f30345f1b6d3a2e932da75cf.zip\n",
      "2021-05-21 14:25:43,469 - clearml.storage - INFO - Uploading: 544.00MB / 531.72MB @ 262.01MBs from /tmp/dataset.c9bb7b67f30345f1b6d3a2e932da75cf.zip\n",
      "2021-05-21 14:25:43,566 - clearml.storage - INFO - Uploading: 612.00MB / 531.72MB @ 701.67MBs from /tmp/dataset.c9bb7b67f30345f1b6d3a2e932da75cf.zip\n",
      "2021-05-21 14:25:43,577 - clearml.storage - INFO - Uploading: 684.00MB / 531.72MB @ 6639.33MBs from /tmp/dataset.c9bb7b67f30345f1b6d3a2e932da75cf.zip\n",
      "2021-05-21 14:25:43,722 - clearml.storage - INFO - Uploading: 760.00MB / 531.72MB @ 521.22MBs from /tmp/dataset.c9bb7b67f30345f1b6d3a2e932da75cf.zip\n",
      "2021-05-21 14:25:43,808 - clearml.storage - INFO - Uploading: 840.00MB / 531.72MB @ 932.52MBs from /tmp/dataset.c9bb7b67f30345f1b6d3a2e932da75cf.zip\n",
      "2021-05-21 14:25:43,883 - clearml.storage - INFO - Uploading: 924.00MB / 531.72MB @ 1122.43MBs from /tmp/dataset.c9bb7b67f30345f1b6d3a2e932da75cf.zip\n",
      "2021-05-21 14:25:43,932 - clearml.storage - INFO - Uploading: 1012.00MB / 531.72MB @ 1782.39MBs from /tmp/dataset.c9bb7b67f30345f1b6d3a2e932da75cf.zip\n",
      "2021-05-21 14:25:43,965 - clearml.storage - INFO - Uploading: 1104.00MB / 531.72MB @ 2829.96MBs from /tmp/dataset.c9bb7b67f30345f1b6d3a2e932da75cf.zip\n",
      "2021-05-21 14:25:44,054 - clearml.storage - INFO - Uploading: 1200.00MB / 531.72MB @ 1081.83MBs from /tmp/dataset.c9bb7b67f30345f1b6d3a2e932da75cf.zip\n",
      "2021-05-21 14:25:44,170 - clearml.storage - INFO - Uploading: 1300.00MB / 531.72MB @ 860.26MBs from /tmp/dataset.c9bb7b67f30345f1b6d3a2e932da75cf.zip\n",
      "2021-05-21 14:25:44,257 - clearml.storage - INFO - Uploading: 1404.00MB / 531.72MB @ 1193.78MBs from /tmp/dataset.c9bb7b67f30345f1b6d3a2e932da75cf.zip\n",
      "2021-05-21 14:25:44,289 - clearml.storage - INFO - Uploading: 1512.00MB / 531.72MB @ 3406.23MBs from /tmp/dataset.c9bb7b67f30345f1b6d3a2e932da75cf.zip\n",
      "2021-05-21 14:25:44,454 - clearml.storage - INFO - Uploading: 1624.00MB / 531.72MB @ 677.44MBs from /tmp/dataset.c9bb7b67f30345f1b6d3a2e932da75cf.zip\n",
      "2021-05-21 14:25:44,536 - clearml.storage - INFO - Uploading: 1740.00MB / 531.72MB @ 1408.25MBs from /tmp/dataset.c9bb7b67f30345f1b6d3a2e932da75cf.zip\n",
      "2021-05-21 14:25:44,539 - clearml.storage - INFO - Uploading: 1860.00MB / 531.72MB @ 50829.78MBs from /tmp/dataset.c9bb7b67f30345f1b6d3a2e932da75cf.zip\n",
      "2021-05-21 14:25:44,679 - clearml.storage - INFO - Uploading: 1984.00MB / 531.72MB @ 883.46MBs from /tmp/dataset.c9bb7b67f30345f1b6d3a2e932da75cf.zip\n",
      "2021-05-21 14:25:44,722 - clearml.storage - INFO - Uploading: 2112.00MB / 531.72MB @ 2968.04MBs from /tmp/dataset.c9bb7b67f30345f1b6d3a2e932da75cf.zip\n",
      "2021-05-21 14:25:44,783 - clearml.storage - INFO - Uploading: 2244.00MB / 531.72MB @ 2157.67MBs from /tmp/dataset.c9bb7b67f30345f1b6d3a2e932da75cf.zip\n",
      "2021-05-21 14:25:44,872 - clearml.storage - INFO - Uploading: 2380.00MB / 531.72MB @ 1540.17MBs from /tmp/dataset.c9bb7b67f30345f1b6d3a2e932da75cf.zip\n",
      "2021-05-21 14:25:45,013 - clearml.storage - INFO - Uploading: 2520.00MB / 531.72MB @ 992.65MBs from /tmp/dataset.c9bb7b67f30345f1b6d3a2e932da75cf.zip\n",
      "2021-05-21 14:25:45,055 - clearml.storage - INFO - Uploading: 2664.00MB / 531.72MB @ 3403.47MBs from /tmp/dataset.c9bb7b67f30345f1b6d3a2e932da75cf.zip\n",
      "2021-05-21 14:25:45,109 - clearml.storage - INFO - Uploading: 2812.00MB / 531.72MB @ 2749.71MBs from /tmp/dataset.c9bb7b67f30345f1b6d3a2e932da75cf.zip\n",
      "2021-05-21 14:25:45,187 - clearml.storage - INFO - Uploading: 2964.00MB / 531.72MB @ 1938.90MBs from /tmp/dataset.c9bb7b67f30345f1b6d3a2e932da75cf.zip\n",
      "2021-05-21 14:25:45,205 - clearml.storage - INFO - Uploading: 3120.00MB / 531.72MB @ 9058.60MBs from /tmp/dataset.c9bb7b67f30345f1b6d3a2e932da75cf.zip\n",
      "2021-05-21 14:25:45,308 - clearml.storage - INFO - Uploading: 3280.00MB / 531.72MB @ 1542.10MBs from /tmp/dataset.c9bb7b67f30345f1b6d3a2e932da75cf.zip\n",
      "2021-05-21 14:25:45,342 - clearml.storage - INFO - Uploading: 3444.00MB / 531.72MB @ 4807.73MBs from /tmp/dataset.c9bb7b67f30345f1b6d3a2e932da75cf.zip\n",
      "2021-05-21 14:25:45,546 - clearml.storage - INFO - Uploading: 3612.00MB / 531.72MB @ 824.61MBs from /tmp/dataset.c9bb7b67f30345f1b6d3a2e932da75cf.zip\n",
      "2021-05-21 14:25:45,549 - clearml.storage - INFO - Uploading: 3784.00MB / 531.72MB @ 69200.99MBs from /tmp/dataset.c9bb7b67f30345f1b6d3a2e932da75cf.zip\n",
      "2021-05-21 14:25:45,632 - clearml.storage - INFO - Uploading: 3960.00MB / 531.72MB @ 2120.10MBs from /tmp/dataset.c9bb7b67f30345f1b6d3a2e932da75cf.zip\n",
      "2021-05-21 14:25:45,772 - clearml.storage - INFO - Uploading: 4140.00MB / 531.72MB @ 1279.07MBs from /tmp/dataset.c9bb7b67f30345f1b6d3a2e932da75cf.zip\n",
      "2021-05-21 14:25:45,806 - clearml.storage - INFO - Uploading: 4324.00MB / 531.72MB @ 5410.45MBs from /tmp/dataset.c9bb7b67f30345f1b6d3a2e932da75cf.zip\n",
      "2021-05-21 14:25:45,890 - clearml.storage - INFO - Uploading: 4512.00MB / 531.72MB @ 2238.22MBs from /tmp/dataset.c9bb7b67f30345f1b6d3a2e932da75cf.zip\n",
      "2021-05-21 14:25:46,089 - clearml.storage - INFO - Uploading: 4704.00MB / 531.72MB @ 967.09MBs from /tmp/dataset.c9bb7b67f30345f1b6d3a2e932da75cf.zip\n",
      "2021-05-21 14:25:46,152 - clearml.storage - INFO - Uploading: 4900.00MB / 531.72MB @ 3129.11MBs from /tmp/dataset.c9bb7b67f30345f1b6d3a2e932da75cf.zip\n",
      "2021-05-21 14:25:46,192 - clearml.storage - INFO - Uploading: 5100.00MB / 531.72MB @ 4965.05MBs from /tmp/dataset.c9bb7b67f30345f1b6d3a2e932da75cf.zip\n",
      "2021-05-21 14:25:46,285 - clearml.storage - INFO - Uploading: 5304.00MB / 531.72MB @ 2186.14MBs from /tmp/dataset.c9bb7b67f30345f1b6d3a2e932da75cf.zip\n",
      "2021-05-21 14:25:46,416 - clearml.storage - INFO - Uploading: 5512.00MB / 531.72MB @ 1595.95MBs from /tmp/dataset.c9bb7b67f30345f1b6d3a2e932da75cf.zip\n",
      "2021-05-21 14:25:46,519 - clearml.storage - INFO - Uploading: 5724.00MB / 531.72MB @ 2047.64MBs from /tmp/dataset.c9bb7b67f30345f1b6d3a2e932da75cf.zip\n",
      "2021-05-21 14:25:46,551 - clearml.storage - INFO - Uploading: 5940.00MB / 531.72MB @ 6843.65MBs from /tmp/dataset.c9bb7b67f30345f1b6d3a2e932da75cf.zip\n",
      "2021-05-21 14:25:46,723 - clearml.storage - INFO - Uploading: 6160.00MB / 531.72MB @ 1278.24MBs from /tmp/dataset.c9bb7b67f30345f1b6d3a2e932da75cf.zip\n",
      "2021-05-21 14:25:46,867 - clearml.storage - INFO - Uploading: 6384.00MB / 531.72MB @ 1554.53MBs from /tmp/dataset.c9bb7b67f30345f1b6d3a2e932da75cf.zip\n",
      "2021-05-21 14:25:46,903 - clearml.storage - INFO - Uploading: 6612.00MB / 531.72MB @ 6223.12MBs from /tmp/dataset.c9bb7b67f30345f1b6d3a2e932da75cf.zip\n",
      "2021-05-21 14:25:47,012 - clearml.storage - INFO - Uploading: 6844.00MB / 531.72MB @ 2142.97MBs from /tmp/dataset.c9bb7b67f30345f1b6d3a2e932da75cf.zip\n",
      "2021-05-21 14:25:47,021 - clearml.storage - INFO - Uploading: 7080.00MB / 531.72MB @ 25596.85MBs from /tmp/dataset.c9bb7b67f30345f1b6d3a2e932da75cf.zip\n",
      "2021-05-21 14:25:47,129 - clearml.storage - INFO - Uploading: 7320.00MB / 531.72MB @ 2227.87MBs from /tmp/dataset.c9bb7b67f30345f1b6d3a2e932da75cf.zip\n",
      "2021-05-21 14:25:47,240 - clearml.storage - INFO - Uploading: 7564.00MB / 531.72MB @ 2193.43MBs from /tmp/dataset.c9bb7b67f30345f1b6d3a2e932da75cf.zip\n",
      "2021-05-21 14:25:47,270 - clearml.storage - INFO - Uploading: 7812.00MB / 531.72MB @ 8295.48MBs from /tmp/dataset.c9bb7b67f30345f1b6d3a2e932da75cf.zip\n",
      "2021-05-21 14:25:47,393 - clearml.storage - INFO - Uploading: 8064.00MB / 531.72MB @ 2040.64MBs from /tmp/dataset.c9bb7b67f30345f1b6d3a2e932da75cf.zip\n",
      "2021-05-21 14:25:47,419 - clearml.storage - INFO - Uploading: 8320.00MB / 531.72MB @ 9788.25MBs from /tmp/dataset.c9bb7b67f30345f1b6d3a2e932da75cf.zip\n",
      "2021-05-21 14:25:47,506 - clearml.storage - INFO - Uploading: 8580.00MB / 531.72MB @ 2996.81MBs from /tmp/dataset.c9bb7b67f30345f1b6d3a2e932da75cf.zip\n",
      "2021-05-21 14:25:47,603 - clearml.storage - INFO - Uploading: 8844.00MB / 531.72MB @ 2719.49MBs from /tmp/dataset.c9bb7b67f30345f1b6d3a2e932da75cf.zip\n",
      "2021-05-21 14:25:47,635 - clearml.storage - INFO - Uploading: 9112.00MB / 531.72MB @ 8531.15MBs from /tmp/dataset.c9bb7b67f30345f1b6d3a2e932da75cf.zip\n",
      "2021-05-21 14:25:47,718 - clearml.storage - INFO - Uploading: 9384.00MB / 531.72MB @ 3261.97MBs from /tmp/dataset.c9bb7b67f30345f1b6d3a2e932da75cf.zip\n",
      "2021-05-21 14:25:47,755 - clearml.storage - INFO - Uploading: 9660.00MB / 531.72MB @ 7401.05MBs from /tmp/dataset.c9bb7b67f30345f1b6d3a2e932da75cf.zip\n",
      "2021-05-21 14:25:47,864 - clearml.storage - INFO - Uploading: 9940.00MB / 531.72MB @ 2584.27MBs from /tmp/dataset.c9bb7b67f30345f1b6d3a2e932da75cf.zip\n",
      "2021-05-21 14:25:47,907 - clearml.storage - INFO - Uploading: 10224.00MB / 531.72MB @ 6619.04MBs from /tmp/dataset.c9bb7b67f30345f1b6d3a2e932da75cf.zip\n",
      "2021-05-21 14:25:48,012 - clearml.storage - INFO - Uploading: 10512.00MB / 531.72MB @ 2727.88MBs from /tmp/dataset.c9bb7b67f30345f1b6d3a2e932da75cf.zip\n",
      "2021-05-21 14:25:48,127 - clearml.storage - INFO - Uploading: 10804.00MB / 531.72MB @ 2544.87MBs from /tmp/dataset.c9bb7b67f30345f1b6d3a2e932da75cf.zip\n",
      "2021-05-21 14:25:48,170 - clearml.storage - INFO - Uploading: 11100.00MB / 531.72MB @ 6880.63MBs from /tmp/dataset.c9bb7b67f30345f1b6d3a2e932da75cf.zip\n",
      "2021-05-21 14:25:48,283 - clearml.storage - INFO - Uploading: 11400.00MB / 531.72MB @ 2649.55MBs from /tmp/dataset.c9bb7b67f30345f1b6d3a2e932da75cf.zip\n",
      "2021-05-21 14:25:48,380 - clearml.storage - INFO - Uploading: 11704.00MB / 531.72MB @ 3126.20MBs from /tmp/dataset.c9bb7b67f30345f1b6d3a2e932da75cf.zip\n",
      "2021-05-21 14:25:48,442 - clearml.storage - INFO - Uploading: 12012.00MB / 531.72MB @ 5031.47MBs from /tmp/dataset.c9bb7b67f30345f1b6d3a2e932da75cf.zip\n",
      "2021-05-21 14:25:48,530 - clearml.storage - INFO - Uploading: 12324.00MB / 531.72MB @ 3549.60MBs from /tmp/dataset.c9bb7b67f30345f1b6d3a2e932da75cf.zip\n",
      "2021-05-21 14:25:48,562 - clearml.storage - INFO - Uploading: 12640.00MB / 531.72MB @ 9616.68MBs from /tmp/dataset.c9bb7b67f30345f1b6d3a2e932da75cf.zip\n",
      "2021-05-21 14:25:48,719 - clearml.storage - INFO - Uploading: 12960.00MB / 531.72MB @ 2049.63MBs from /tmp/dataset.c9bb7b67f30345f1b6d3a2e932da75cf.zip\n",
      "2021-05-21 14:25:48,721 - clearml.storage - INFO - Uploading: 13284.00MB / 531.72MB @ 145389.38MBs from /tmp/dataset.c9bb7b67f30345f1b6d3a2e932da75cf.zip\n",
      "2021-05-21 14:25:48,855 - clearml.storage - INFO - Uploading: 13612.00MB / 531.72MB @ 2450.86MBs from /tmp/dataset.c9bb7b67f30345f1b6d3a2e932da75cf.zip\n",
      "2021-05-21 14:25:48,919 - clearml.storage - INFO - Uploading: 13944.00MB / 531.72MB @ 5156.54MBs from /tmp/dataset.c9bb7b67f30345f1b6d3a2e932da75cf.zip\n",
      "2021-05-21 14:25:48,968 - clearml.storage - INFO - Uploading: 14280.00MB / 531.72MB @ 6860.21MBs from /tmp/dataset.c9bb7b67f30345f1b6d3a2e932da75cf.zip\n",
      "2021-05-21 14:25:49,029 - clearml.storage - INFO - Uploading: 14620.00MB / 531.72MB @ 5558.16MBs from /tmp/dataset.c9bb7b67f30345f1b6d3a2e932da75cf.zip\n",
      "2021-05-21 14:25:49,082 - clearml.storage - INFO - Uploading: 14964.00MB / 531.72MB @ 6533.69MBs from /tmp/dataset.c9bb7b67f30345f1b6d3a2e932da75cf.zip\n",
      "2021-05-21 14:25:49,163 - clearml.storage - INFO - Uploading: 15312.00MB / 531.72MB @ 4302.18MBs from /tmp/dataset.c9bb7b67f30345f1b6d3a2e932da75cf.zip\n",
      "2021-05-21 14:25:49,261 - clearml.storage - INFO - Uploading: 15664.00MB / 531.72MB @ 3573.30MBs from /tmp/dataset.c9bb7b67f30345f1b6d3a2e932da75cf.zip\n",
      "2021-05-21 14:25:49,414 - clearml.storage - INFO - Uploading: 16020.00MB / 531.72MB @ 2333.65MBs from /tmp/dataset.c9bb7b67f30345f1b6d3a2e932da75cf.zip\n",
      "2021-05-21 14:25:49,582 - clearml.storage - INFO - Uploading: 16380.00MB / 531.72MB @ 2144.71MBs from /tmp/dataset.c9bb7b67f30345f1b6d3a2e932da75cf.zip\n",
      "2021-05-21 14:25:49,892 - clearml.storage - INFO - Uploading: 16744.00MB / 531.72MB @ 1174.35MBs from /tmp/dataset.c9bb7b67f30345f1b6d3a2e932da75cf.zip\n",
      "2021-05-21 14:25:49,995 - clearml.storage - INFO - Uploading: 17112.00MB / 531.72MB @ 3572.83MBs from /tmp/dataset.c9bb7b67f30345f1b6d3a2e932da75cf.zip\n",
      "2021-05-21 14:25:50,152 - clearml.storage - INFO - Uploading: 17484.00MB / 531.72MB @ 2368.07MBs from /tmp/dataset.c9bb7b67f30345f1b6d3a2e932da75cf.zip\n",
      "2021-05-21 14:25:50,275 - clearml.storage - INFO - Uploading: 17860.00MB / 531.72MB @ 3059.86MBs from /tmp/dataset.c9bb7b67f30345f1b6d3a2e932da75cf.zip\n",
      "2021-05-21 14:25:50,502 - clearml.storage - INFO - Uploading: 18240.00MB / 531.72MB @ 1671.53MBs from /tmp/dataset.c9bb7b67f30345f1b6d3a2e932da75cf.zip\n",
      "2021-05-21 14:25:50,670 - clearml.storage - INFO - Uploading: 18624.00MB / 531.72MB @ 2282.78MBs from /tmp/dataset.c9bb7b67f30345f1b6d3a2e932da75cf.zip\n",
      "2021-05-21 14:25:50,838 - clearml.storage - INFO - Uploading: 19012.00MB / 531.72MB @ 2317.44MBs from /tmp/dataset.c9bb7b67f30345f1b6d3a2e932da75cf.zip\n",
      "2021-05-21 14:25:50,901 - clearml.storage - INFO - Uploading: 19404.00MB / 531.72MB @ 6145.59MBs from /tmp/dataset.c9bb7b67f30345f1b6d3a2e932da75cf.zip\n",
      "2021-05-21 14:25:50,952 - clearml.storage - INFO - Uploading: 19800.00MB / 531.72MB @ 7766.61MBs from /tmp/dataset.c9bb7b67f30345f1b6d3a2e932da75cf.zip\n",
      "2021-05-21 14:25:50,999 - clearml.storage - INFO - Uploading: 20200.00MB / 531.72MB @ 8568.46MBs from /tmp/dataset.c9bb7b67f30345f1b6d3a2e932da75cf.zip\n",
      "2021-05-21 14:25:51,102 - clearml.storage - INFO - Uploading: 20604.00MB / 531.72MB @ 3921.40MBs from /tmp/dataset.c9bb7b67f30345f1b6d3a2e932da75cf.zip\n",
      "2021-05-21 14:25:51,137 - clearml.storage - INFO - Uploading: 21012.00MB / 531.72MB @ 11790.60MBs from /tmp/dataset.c9bb7b67f30345f1b6d3a2e932da75cf.zip\n",
      "2021-05-21 14:25:51,196 - clearml.storage - INFO - Uploading: 21424.00MB / 531.72MB @ 6970.04MBs from /tmp/dataset.c9bb7b67f30345f1b6d3a2e932da75cf.zip\n",
      "2021-05-21 14:25:51,256 - clearml.storage - INFO - Uploading: 21840.00MB / 531.72MB @ 6923.96MBs from /tmp/dataset.c9bb7b67f30345f1b6d3a2e932da75cf.zip\n",
      "2021-05-21 14:25:51,374 - clearml.storage - INFO - Uploading: 22260.00MB / 531.72MB @ 3549.71MBs from /tmp/dataset.c9bb7b67f30345f1b6d3a2e932da75cf.zip\n",
      "2021-05-21 14:25:51,418 - clearml.storage - INFO - Uploading: 22684.00MB / 531.72MB @ 9565.01MBs from /tmp/dataset.c9bb7b67f30345f1b6d3a2e932da75cf.zip\n",
      "2021-05-21 14:25:51,521 - clearml.storage - INFO - Uploading: 23112.00MB / 531.72MB @ 4179.97MBs from /tmp/dataset.c9bb7b67f30345f1b6d3a2e932da75cf.zip\n",
      "2021-05-21 14:25:51,531 - clearml.storage - INFO - Uploading: 23544.00MB / 531.72MB @ 44005.81MBs from /tmp/dataset.c9bb7b67f30345f1b6d3a2e932da75cf.zip\n",
      "2021-05-21 14:25:51,608 - clearml.storage - INFO - Uploading: 23980.00MB / 531.72MB @ 5618.04MBs from /tmp/dataset.c9bb7b67f30345f1b6d3a2e932da75cf.zip\n",
      "2021-05-21 14:25:51,634 - clearml.storage - INFO - Uploading: 24420.00MB / 531.72MB @ 16960.23MBs from /tmp/dataset.c9bb7b67f30345f1b6d3a2e932da75cf.zip\n",
      "2021-05-21 14:25:51,708 - clearml.storage - INFO - Uploading: 24864.00MB / 531.72MB @ 6005.21MBs from /tmp/dataset.c9bb7b67f30345f1b6d3a2e932da75cf.zip\n",
      "2021-05-21 14:25:51,764 - clearml.storage - INFO - Uploading: 25312.00MB / 531.72MB @ 7973.01MBs from /tmp/dataset.c9bb7b67f30345f1b6d3a2e932da75cf.zip\n",
      "2021-05-21 14:25:51,857 - clearml.storage - INFO - Uploading: 25764.00MB / 531.72MB @ 4897.09MBs from /tmp/dataset.c9bb7b67f30345f1b6d3a2e932da75cf.zip\n",
      "2021-05-21 14:25:51,907 - clearml.storage - INFO - Uploading: 26220.00MB / 531.72MB @ 9088.76MBs from /tmp/dataset.c9bb7b67f30345f1b6d3a2e932da75cf.zip\n",
      "2021-05-21 14:25:52,063 - clearml.storage - INFO - Uploading: 26680.00MB / 531.72MB @ 2954.63MBs from /tmp/dataset.c9bb7b67f30345f1b6d3a2e932da75cf.zip\n",
      "2021-05-21 14:25:52,232 - clearml.storage - INFO - Uploading: 27144.00MB / 531.72MB @ 2737.96MBs from /tmp/dataset.c9bb7b67f30345f1b6d3a2e932da75cf.zip\n",
      "2021-05-21 14:25:52,333 - clearml.storage - INFO - Uploading: 27612.00MB / 531.72MB @ 4642.86MBs from /tmp/dataset.c9bb7b67f30345f1b6d3a2e932da75cf.zip\n",
      "2021-05-21 14:25:52,354 - clearml.storage - INFO - Uploading: 28084.00MB / 531.72MB @ 22176.92MBs from /tmp/dataset.c9bb7b67f30345f1b6d3a2e932da75cf.zip\n",
      "2021-05-21 14:25:52,474 - clearml.storage - INFO - Uploading: 28560.00MB / 531.72MB @ 3960.33MBs from /tmp/dataset.c9bb7b67f30345f1b6d3a2e932da75cf.zip\n",
      "2021-05-21 14:25:52,649 - clearml.storage - INFO - Uploading: 29040.00MB / 531.72MB @ 2747.24MBs from /tmp/dataset.c9bb7b67f30345f1b6d3a2e932da75cf.zip\n",
      "2021-05-21 14:25:52,796 - clearml.storage - INFO - Uploading: 29524.00MB / 531.72MB @ 3289.00MBs from /tmp/dataset.c9bb7b67f30345f1b6d3a2e932da75cf.zip\n",
      "2021-05-21 14:25:52,818 - clearml.storage - INFO - Uploading: 30012.00MB / 531.72MB @ 22114.64MBs from /tmp/dataset.c9bb7b67f30345f1b6d3a2e932da75cf.zip\n",
      "2021-05-21 14:25:52,953 - clearml.storage - INFO - Uploading: 30504.00MB / 531.72MB @ 3649.77MBs from /tmp/dataset.c9bb7b67f30345f1b6d3a2e932da75cf.zip\n",
      "2021-05-21 14:25:53,010 - clearml.storage - INFO - Uploading: 31000.00MB / 531.72MB @ 8767.78MBs from /tmp/dataset.c9bb7b67f30345f1b6d3a2e932da75cf.zip\n",
      "2021-05-21 14:25:53,064 - clearml.storage - INFO - Uploading: 31500.00MB / 531.72MB @ 9217.16MBs from /tmp/dataset.c9bb7b67f30345f1b6d3a2e932da75cf.zip\n",
      "2021-05-21 14:25:53,192 - clearml.storage - INFO - Uploading: 32004.00MB / 531.72MB @ 3925.68MBs from /tmp/dataset.c9bb7b67f30345f1b6d3a2e932da75cf.zip\n",
      "2021-05-21 14:25:53,268 - clearml.storage - INFO - Uploading: 32512.00MB / 531.72MB @ 6729.58MBs from /tmp/dataset.c9bb7b67f30345f1b6d3a2e932da75cf.zip\n",
      "2021-05-21 14:25:53,355 - clearml.storage - INFO - Uploading: 33024.00MB / 531.72MB @ 5852.03MBs from /tmp/dataset.c9bb7b67f30345f1b6d3a2e932da75cf.zip\n",
      "2021-05-21 14:25:53,445 - clearml.storage - INFO - Uploading: 33540.00MB / 531.72MB @ 5762.97MBs from /tmp/dataset.c9bb7b67f30345f1b6d3a2e932da75cf.zip\n",
      "2021-05-21 14:25:53,452 - clearml.storage - INFO - Uploading: 34060.00MB / 531.72MB @ 70861.24MBs from /tmp/dataset.c9bb7b67f30345f1b6d3a2e932da75cf.zip\n",
      "2021-05-21 14:25:53,548 - clearml.storage - INFO - Uploading: 34584.00MB / 531.72MB @ 5452.59MBs from /tmp/dataset.c9bb7b67f30345f1b6d3a2e932da75cf.zip\n",
      "2021-05-21 14:25:53,642 - clearml.storage - INFO - Uploading: 35111.72MB / 531.72MB @ 5628.68MBs from /tmp/dataset.c9bb7b67f30345f1b6d3a2e932da75cf.zip\n",
      "2021-05-21 14:25:53,681 - clearml.storage - INFO - Uploading: 35643.44MB / 531.72MB @ 13610.73MBs from /tmp/dataset.c9bb7b67f30345f1b6d3a2e932da75cf.zip\n",
      "Upload completed (557.55 MB)\n"
     ]
    }
   ],
   "source": [
    "dataset_test.upload(output_url='azure://clearmllibrary/datasets')"
   ]
  },
  {
   "cell_type": "code",
   "execution_count": 9,
   "id": "956ed139-6197-4216-96c8-1e8a5afe0a63",
   "metadata": {},
   "outputs": [
    {
     "data": {
      "text/plain": [
       "True"
      ]
     },
     "execution_count": 9,
     "metadata": {},
     "output_type": "execute_result"
    }
   ],
   "source": [
    "dataset_test.finalize()"
   ]
  },
  {
   "cell_type": "code",
   "execution_count": 10,
   "id": "af0a48de-2a09-43ab-a614-6c8442b7da34",
   "metadata": {},
   "outputs": [
    {
     "data": {
      "text/plain": [
       "True"
      ]
     },
     "execution_count": 10,
     "metadata": {},
     "output_type": "execute_result"
    }
   ],
   "source": [
    "dataset_test.publish()"
   ]
  },
  {
   "cell_type": "code",
   "execution_count": null,
   "id": "095e8f20-b8f1-4281-828a-631226c58f59",
   "metadata": {},
   "outputs": [],
   "source": []
  }
 ],
 "metadata": {
  "kernelspec": {
   "display_name": "Python 3.8 ClearML with PyTorch 1.8.1 [CUDNN 11.1]",
   "language": "python",
   "name": "py38_pytorch181_cu111_clearml"
  },
  "language_info": {
   "codemirror_mode": {
    "name": "ipython",
    "version": 3
   },
   "file_extension": ".py",
   "mimetype": "text/x-python",
   "name": "python",
   "nbconvert_exporter": "python",
   "pygments_lexer": "ipython3",
   "version": "3.8.8"
  }
 },
 "nbformat": 4,
 "nbformat_minor": 5
}
