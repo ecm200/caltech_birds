{
 "cells": [
  {
   "cell_type": "code",
   "execution_count": 1,
   "id": "b908dd7a-d4c9-452e-8043-e9aeba4b967e",
   "metadata": {},
   "outputs": [],
   "source": [
    "# Local modules\n",
    "from cub_tools.trainer import Ignite_Trainer\n",
    "from cub_tools.args import get_parser\n",
    "\n",
    "from clearml import Dataset\n",
    "from clearml import Task"
   ]
  },
  {
   "cell_type": "code",
   "execution_count": 2,
   "id": "7d91a43d-1e6b-4671-a12d-0398dd075bc9",
   "metadata": {},
   "outputs": [],
   "source": [
    "dataset_train = Dataset.create('cub200_2011_train_dataset', dataset_project='Caltech Birds')"
   ]
  },
  {
   "cell_type": "code",
   "execution_count": 3,
   "id": "8c4fbfd0-d5e1-4d2a-85a5-58c30612700a",
   "metadata": {},
   "outputs": [
    {
     "name": "stdout",
     "output_type": "stream",
     "text": [
      "Generating SHA2 hash for 5994 files\n",
      "Hash generation completed\n"
     ]
    },
    {
     "data": {
      "text/plain": [
       "5994"
      ]
     },
     "execution_count": 3,
     "metadata": {},
     "output_type": "execute_result"
    }
   ],
   "source": [
    "dataset_train.add_files(path='../data/images/train/', verbose=False)"
   ]
  },
  {
   "cell_type": "code",
   "execution_count": 4,
   "id": "2c8aeb1a-99af-468e-ab49-4452b04621b0",
   "metadata": {},
   "outputs": [
    {
     "name": "stdout",
     "output_type": "stream",
     "text": [
      "Uploading compressed dataset changes (5994 files, total 576.82 MB) to http://ecm-clearml-server-001.westeurope.cloudapp.azure.com:8081\n",
      "Upload completed (576.82 MB)\n"
     ]
    }
   ],
   "source": [
    "dataset_train.upload()"
   ]
  },
  {
   "cell_type": "code",
   "execution_count": 11,
   "id": "1a75ada3-acf8-4056-beb5-ae77720a1643",
   "metadata": {},
   "outputs": [
    {
     "name": "stdout",
     "output_type": "stream",
     "text": [
      "2021-05-18 14:59:28,132 - clearml.Task - INFO - Waiting to finish uploads\n",
      "2021-05-18 14:59:28,181 - clearml.Task - INFO - Finished uploading\n"
     ]
    },
    {
     "data": {
      "text/plain": [
       "True"
      ]
     },
     "execution_count": 11,
     "metadata": {},
     "output_type": "execute_result"
    }
   ],
   "source": [
    "dataset_train.finalize()\n",
    "dataset_train.publish()"
   ]
  },
  {
   "cell_type": "code",
   "execution_count": 5,
   "id": "5ade8d9d-ccd9-4047-bdcb-4197f6496e0e",
   "metadata": {},
   "outputs": [],
   "source": [
    "dataset_test = Dataset.create('cub200_2011_test_dataset', dataset_project='Caltech Birds')"
   ]
  },
  {
   "cell_type": "code",
   "execution_count": 6,
   "id": "658bedff-616e-4d7d-8d3b-4203ea5e69c9",
   "metadata": {},
   "outputs": [
    {
     "name": "stdout",
     "output_type": "stream",
     "text": [
      "Generating SHA2 hash for 5794 files\n",
      "Hash generation completed\n"
     ]
    },
    {
     "data": {
      "text/plain": [
       "5794"
      ]
     },
     "execution_count": 6,
     "metadata": {},
     "output_type": "execute_result"
    }
   ],
   "source": [
    "dataset_test.add_files(path='../data/images/test/', verbose=False)"
   ]
  },
  {
   "cell_type": "code",
   "execution_count": 7,
   "id": "0fe9fea9-3037-4f9b-873c-bb84089c9e2b",
   "metadata": {},
   "outputs": [
    {
     "name": "stdout",
     "output_type": "stream",
     "text": [
      "Uploading compressed dataset changes (5794 files, total 557.55 MB) to http://ecm-clearml-server-001.westeurope.cloudapp.azure.com:8081\n",
      "Upload completed (557.55 MB)\n"
     ]
    }
   ],
   "source": [
    "dataset_test.upload()"
   ]
  },
  {
   "cell_type": "code",
   "execution_count": 9,
   "id": "956ed139-6197-4216-96c8-1e8a5afe0a63",
   "metadata": {},
   "outputs": [
    {
     "name": "stdout",
     "output_type": "stream",
     "text": [
      "2021-05-18 14:58:35,795 - clearml.Task - INFO - Waiting to finish uploads\n",
      "2021-05-18 14:58:35,845 - clearml.Task - INFO - Finished uploading\n"
     ]
    },
    {
     "data": {
      "text/plain": [
       "True"
      ]
     },
     "execution_count": 9,
     "metadata": {},
     "output_type": "execute_result"
    }
   ],
   "source": [
    "dataset_test.finalize()"
   ]
  },
  {
   "cell_type": "code",
   "execution_count": 10,
   "id": "af0a48de-2a09-43ab-a614-6c8442b7da34",
   "metadata": {},
   "outputs": [
    {
     "data": {
      "text/plain": [
       "True"
      ]
     },
     "execution_count": 10,
     "metadata": {},
     "output_type": "execute_result"
    }
   ],
   "source": []
  },
  {
   "cell_type": "code",
   "execution_count": null,
   "id": "095e8f20-b8f1-4281-828a-631226c58f59",
   "metadata": {},
   "outputs": [],
   "source": []
  }
 ],
 "metadata": {
  "kernelspec": {
   "display_name": "Python 3.8 ClearML [PyTorch 1.8.1 CUDA 11.1 TIMM]",
   "language": "python",
   "name": "py38_pytorch181_cu111_timm_clearml"
  },
  "language_info": {
   "codemirror_mode": {
    "name": "ipython",
    "version": 3
   },
   "file_extension": ".py",
   "mimetype": "text/x-python",
   "name": "python",
   "nbconvert_exporter": "python",
   "pygments_lexer": "ipython3",
   "version": "3.8.8"
  }
 },
 "nbformat": 4,
 "nbformat_minor": 5
}
